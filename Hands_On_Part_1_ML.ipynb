{
  "nbformat": 4,
  "nbformat_minor": 0,
  "metadata": {
    "colab": {
      "name": "Hands_On_Part_1 ML.ipynb",
      "provenance": [],
      "collapsed_sections": [],
      "authorship_tag": "ABX9TyNSJMmw2sPc8BO3AqQZD9+e",
      "include_colab_link": true
    },
    "kernelspec": {
      "name": "python3",
      "display_name": "Python 3"
    }
  },
  "cells": [
    {
      "cell_type": "markdown",
      "metadata": {
        "id": "view-in-github",
        "colab_type": "text"
      },
      "source": [
        "<a href=\"https://colab.research.google.com/github/Johyeonje/Deep_Learning_Books/blob/master/Hands_On_Part_1_ML.ipynb\" target=\"_parent\"><img src=\"https://colab.research.google.com/assets/colab-badge.svg\" alt=\"Open In Colab\"/></a>"
      ]
    },
    {
      "cell_type": "markdown",
      "metadata": {
        "id": "NZkAMr1YM-E8"
      },
      "source": [
        "# 머신러닝"
      ]
    },
    {
      "cell_type": "markdown",
      "metadata": {
        "id": "YrelO88ENL7q"
      },
      "source": [
        "##1.한눈에 보는 머신러닝"
      ]
    },
    {
      "cell_type": "markdown",
      "metadata": {
        "id": "TKUW-HuINgxk"
      },
      "source": [
        "다룰 내용    \n",
        "* 지도학습과 비지도 학습, 온라인 학습과 배치학습, 사례 기반 학습, 모델 기반 학습, ML 프로젝트 작업 흐름-문제점, 평가 및 튜닝 방법"
      ]
    },
    {
      "cell_type": "markdown",
      "metadata": {
        "id": "CE4J4AtkNzC2"
      },
      "source": [
        "##1.1 ML 이란"
      ]
    },
    {
      "cell_type": "markdown",
      "metadata": {
        "id": "q6z_jMWrN7yZ"
      },
      "source": [
        "Trainning Set : 시스템이 학습하는데 사용하는 샘플    \n",
        "Trainning Instance : Set안에 각 데이터    \n",
        "Accuracy : 성능 측정의 단위, 정확도"
      ]
    },
    {
      "cell_type": "markdown",
      "metadata": {
        "id": "fOfkLw_SObWZ"
      },
      "source": [
        "##1.2 머신러닝을 왜쓸까"
      ]
    },
    {
      "cell_type": "markdown",
      "metadata": {
        "id": "TCZrvVZrOk5y"
      },
      "source": [
        "사람이 직접 판단하여 업데이트할 사항을 패턴 파악을 통한 업데이트로 간소화와 자동화"
      ]
    },
    {
      "cell_type": "markdown",
      "metadata": {
        "id": "UB1sHoUZPHtq"
      },
      "source": [
        "**머신러닝의 강점**\n",
        "* 기존 솔루션으로는 많은 수동 조정과 규칙이 필요한 문제\n",
        "* 전통적인 방식으로 해결 방법이 없는 복잡한 문제\n",
        "* 유동적인 환경\n",
        "* 복잡한 문제와 대량의 데이터로부터의 통찰"
      ]
    },
    {
      "cell_type": "markdown",
      "metadata": {
        "id": "PUiKwSVYPkB3"
      },
      "source": [
        "##1.4 머신러닝 시스템의 종류"
      ]
    },
    {
      "cell_type": "markdown",
      "metadata": {
        "id": "gjAutBJQRXuA"
      },
      "source": [
        "* 사람의 감독하에 훈련하는 것인지 아닌지 (지도, 비지도, 준지도, 강화학습)\n",
        "* 실시간으로 점진적인 학습을 하는지 아닌지(온라인 학습, 배치 학습)\n",
        "* 단순히 알고 있는 데이터 포인트와 새 데이터 포인트를 비교하는 것인지 훈련 데이터 셋에서 패턴을 발견하여 예측 모델을 만드는지(사례 기반 학습, 모델 기반 학습)"
      ]
    },
    {
      "cell_type": "markdown",
      "metadata": {
        "id": "IJriRuzxRt2W"
      },
      "source": [
        "###1.4.1 지도 학습과 비지도 학습"
      ]
    },
    {
      "cell_type": "markdown",
      "metadata": {
        "id": "wgRiPbj8Rxbm"
      },
      "source": [
        "####지도 학습"
      ]
    },
    {
      "cell_type": "markdown",
      "metadata": {
        "id": "ZWszmgkzR3E6"
      },
      "source": [
        ": 모델에 주입하는 훈련 데이터에 레이블(Label)이라는 원하는 답이 포함"
      ]
    },
    {
      "cell_type": "markdown",
      "metadata": {
        "id": "mn5HTE9RR-tt"
      },
      "source": [
        "지도학습의 작업    \n",
        "* 분류 (Classification)\n",
        "* 예측 변수 (Predictor variable)\n",
        "* 특성 (Feature)\n",
        "* 타깃(Target)의 수치 예측\n",
        "    \n",
        "==> 회귀 (Regression)    \n",
        "  **많은 예측 변수와 레이블을 필요로함.**"
      ]
    },
    {
      "cell_type": "markdown",
      "metadata": {
        "id": "dnAuWHt7S2WN"
      },
      "source": [
        "**가장 중요한 지도 학습 알고리즘**    \n",
        "* k-최근접 이웃 (k-nearest neighbors)\n",
        "* 선형 회귀 (linear regression)\n",
        "* 로지스틱 회귀 (logistic regression)\n",
        "* 서포트 벡터 머신 (support vector machine = SVM)\n",
        "* 결정 트리(decision tree)와 랜덤 포레스트(random forest)\n",
        "* 신경망 (neural networks)"
      ]
    },
    {
      "cell_type": "markdown",
      "metadata": {
        "id": "uJN5ryPqTUjK"
      },
      "source": [
        "####비지도 학습"
      ]
    },
    {
      "cell_type": "markdown",
      "metadata": {
        "id": "oY-lgFvyTZ3u"
      },
      "source": [
        ": 훈련 데이터에 레이블이 없어 시스템이 아무런 도움 없이 학습"
      ]
    },
    {
      "cell_type": "markdown",
      "metadata": {
        "id": "Os4DZucVThqL"
      },
      "source": [
        "**가장 중요한 비지도 학습 알고리즘**    \n",
        "* 군집 (clustering)\n",
        "  * k-평균 (k-means)\n",
        "  * DBSCAN\n",
        "  * 계층 군집 분석 (hierarchical cluster analysis = HCA)\n",
        "  * 이상치 탐지(outlier detection)와 특이치 탐지(novelty detection)\n",
        "  * 원-클래스 (one-class SVM)\n",
        "  * 아이솔레이션 포레스트 (isolation forest)\n",
        "* 시각화(visualization)와 차원 축소(dimensionality reduction)\n",
        "  * 주성분 분석 (principal component analysis = PCA)\n",
        "  * 커널 (kernal) PCA\n",
        "  * 지역적 선형 임베딩 (locally-linear embedding = LLE)\n",
        "  * t-SNE (t-distributed stochastic neighbor embedding)\n",
        "* 연관 규칙 학습 (association rule learning)\n",
        "  * 어프라이어리 (Apriori)\n",
        "  * 이클렛 (Eclat)"
      ]
    },
    {
      "cell_type": "markdown",
      "metadata": {
        "id": "qnxGVMgxU8sE"
      },
      "source": [
        "비지도 학습의 예시    \n",
        "* **계층 군집**을 통해 데이터에서 그룹을 작은 그룹으로 세분화    \n",
        "* **시각화**를 통해 데이터만으로는 알 수 없었던 연관 관계를 발견\n",
        "* **차원 축소**를 통해 최대한 정보를 유지하면서 데이터를 간소화\n",
        "* **특성 추출**을 통해 두 특성을 하나의 특성으로 융합\n",
        "* **이상치 탐지**를 통해 이상 값에 대해 발견, 제거\n",
        "* **특이치 탐지**를 통해 깨끗한 훈련 세트를 위해 특이 샘플 탐지\n",
        "* **연관 규칙 학습**을 통해 대량의 데이터 간의 새로운 관계 발견"
      ]
    },
    {
      "cell_type": "markdown",
      "metadata": {
        "id": "btLeYDQiWtJ8"
      },
      "source": [
        "####준지도 학습"
      ]
    },
    {
      "cell_type": "markdown",
      "metadata": {
        "id": "oywSqezoWyk_"
      },
      "source": [
        ": 일부만 레이블이 있는 데이터를 학습 (지도 학습과 비지도 학습의 조합)    \n",
        "    \n",
        "ex) 심층 신뢰 신경망(deep belief network = DBN)은 여러 겹으로 쌓은 제한된 볼츠만 머신(restricted Boltzmann machine = RBM)이라는 비지도 학습에 기초하여 RBM이 비지도 학습 방식으로 순차적으로 훈련된 다음 전체 시스템이 지도 학습으로 세밀하게 조정"
      ]
    },
    {
      "cell_type": "markdown",
      "metadata": {
        "id": "MGtGvKoXW8gt"
      },
      "source": [
        "####강화 학습"
      ]
    },
    {
      "cell_type": "markdown",
      "metadata": {
        "id": "PQKmhP_ZX93W"
      },
      "source": [
        ": 앞선 알고리즘과 매우 다른 종류로 에이전트라는 학습 시스템이 환경을 관찰해서 행동을 실행하고 결과로 보상(reward)또는 벌점(penalty)을 얻는 방식으로 보상을 얻기 위해 정책(policy)라 부르는 최상의 전략을 스스로 학습    \n",
        "ex) 알파고"
      ]
    },
    {
      "cell_type": "markdown",
      "metadata": {
        "id": "Y56PWpx5Yhqd"
      },
      "source": [
        "###1.4.2 배치 학습과 온라인 학습"
      ]
    },
    {
      "cell_type": "markdown",
      "metadata": {
        "id": "QlLybPkgYmNB"
      },
      "source": [
        "머신러닝 시스템을 분류하는데 사용하는 다른 기준으로 입력 데이터의 스트림(stream)부터 점진적으로 학습할 수 있는지 여부"
      ]
    },
    {
      "cell_type": "markdown",
      "metadata": {
        "id": "6oSU4HxMYyK3"
      },
      "source": [
        "####배치 학습"
      ]
    },
    {
      "cell_type": "markdown",
      "metadata": {
        "id": "Sl4t0L57Y0wl"
      },
      "source": [
        ": 시스템이 점진적으로 학습할 수 없어 가용한 데이터를 모두 사용해 훈련    \n",
        "일반적으로 시간과 자원을 많이 소모하여 오프라인에서 수행하며 학습한 것을 적용만 함 =오프라인 학습(offline learning)"
      ]
    },
    {
      "cell_type": "markdown",
      "metadata": {
        "id": "BXXbxH3rZNje"
      },
      "source": [
        "새로운 데이터를 학습하려면 이전 데이터도 포함한 전체 데이터를 처음부터 다시 훈련(?)    \n"
      ]
    },
    {
      "cell_type": "markdown",
      "metadata": {
        "id": "tfE4px6kGGN-"
      },
      "source": [
        "####온라인 학습"
      ]
    },
    {
      "cell_type": "markdown",
      "metadata": {
        "id": "JJIxBhcEGISt"
      },
      "source": [
        ": 데이터를 순차적으로 한 개씩 또는 **미니배치(mini-batch)**의 작은 묶음 단위씩 주입하여 훈련(=점진적 학습)    \n",
        "학습 단계가 빠르고 비용이 적게 들어 데이터가 올 때 마다 즉시 학습 가능"
      ]
    },
    {
      "cell_type": "markdown",
      "metadata": {
        "id": "ZJNvmVokGVag"
      },
      "source": [
        "###1.4.3 사례 기반 학습과 모델 기반 학습"
      ]
    },
    {
      "cell_type": "markdown",
      "metadata": {
        "id": "6pMDpUteHxlp"
      },
      "source": [
        "머신러닝 시스템을 어떻게 일반화(generalize)되는가에 따라 분류할 수도 있다."
      ]
    },
    {
      "cell_type": "markdown",
      "metadata": {
        "id": "-B6MlE6qH_ph"
      },
      "source": [
        "####사례 기반 학습"
      ]
    },
    {
      "cell_type": "markdown",
      "metadata": {
        "id": "3vQtm02KIB0l"
      },
      "source": [
        ": 기존 사례와 새로운 사례의 유사도를 통해 비교하는 식으로 일반화"
      ]
    },
    {
      "cell_type": "markdown",
      "metadata": {
        "id": "VdBPzQUoITD2"
      },
      "source": [
        "####모델 기반 학습"
      ]
    },
    {
      "cell_type": "markdown",
      "metadata": {
        "id": "A0kfj0phIVQP"
      },
      "source": [
        ": 샘플들의 모델을 만들어 예측에 사용하는 것"
      ]
    },
    {
      "cell_type": "markdown",
      "metadata": {
        "id": "uDz3Rc3gJKg-"
      },
      "source": [
        "**선형 모델** : 목표값에 영향을 주는 특성이 1차원일 때 이를 선형 모델이라고 한다."
      ]
    },
    {
      "cell_type": "markdown",
      "metadata": {
        "id": "rB2mFamuJaEA"
      },
      "source": [
        "모델의 효용성을 측정하는 효용 함수(utility function=(적합도 함수fitness function))를 정의하거나 얼마나 나쁜지 측정하는 비용 함수(cost function)를 정의할 수 있다."
      ]
    },
    {
      "cell_type": "markdown",
      "metadata": {
        "id": "IUhFGr0aJyMO"
      },
      "source": [
        "####데이터 로드 및 산점도 선형 모델"
      ]
    },
    {
      "cell_type": "code",
      "metadata": {
        "id": "KL-KWKnoMQi8",
        "colab": {
          "base_uri": "https://localhost:8080/",
          "height": 179
        },
        "outputId": "03517881-9212-4340-8a06-706bf055596c"
      },
      "source": [
        "!kaggle datasets download -d jej13b/oecd-better-life-index.csv"
      ],
      "execution_count": null,
      "outputs": [
        {
          "output_type": "stream",
          "text": [
            "Traceback (most recent call last):\n",
            "  File \"/usr/local/bin/kaggle\", line 5, in <module>\n",
            "    from kaggle.cli import main\n",
            "  File \"/usr/local/lib/python2.7/dist-packages/kaggle/__init__.py\", line 23, in <module>\n",
            "    api.authenticate()\n",
            "  File \"/usr/local/lib/python2.7/dist-packages/kaggle/api/kaggle_api_extended.py\", line 146, in authenticate\n",
            "    self.config_file, self.config_dir))\n",
            "IOError: Could not find kaggle.json. Make sure it's located in /root/.kaggle. Or use the environment method.\n"
          ],
          "name": "stdout"
        }
      ]
    },
    {
      "cell_type": "code",
      "metadata": {
        "id": "61unHCVFJ3I6"
      },
      "source": [
        "import matplotlib.pyplot as plt\n",
        "import numpy as np\n",
        "import pandas as pd\n",
        "import sklearn.linear_model\n",
        "\n",
        "#데이터 적재\n",
        "oecd_bli = pd.read_csv(\"oecd_bli_2015.csv\", thousands=',')\n",
        "gdp_per_capita = pd.read_csv(\"gdp_per_capita.csv\",thousands=\",\",delimiter='\\t', encoding='latin1', na_values='n/a')\n",
        "\n",
        "#데이터 준비\n",
        "country_stats = prepare_country_stats(oecd_bli, gdp_per_capita)\n",
        "X = np.c_[country_stats[\"GDP per capita\"]]\n",
        "y = np.c_[country_stats[\"Life statisfaction\"]]\n",
        "\n",
        "#데이터 시각화\n",
        "contry_stats.plot(kind='scatter', x=\"GDP per capita\", y='Life satisfaction')\n",
        "plt.show()\n",
        "\n",
        "#선형 모델 선택\n",
        "model = sklearn.linear_model.LinearRegression()\n",
        "\n",
        "#모델 훈련\n",
        "model.fit(x, y)\n",
        "\n",
        "#키프로스에 대한 예측 만들기\n",
        "X_new = [[22587]] #키프로스 1인당 GDP\n",
        "print(model.predict(X_new))\n",
        "\n",
        "#결과\n"
      ],
      "execution_count": null,
      "outputs": []
    },
    {
      "cell_type": "markdown",
      "metadata": {
        "id": "-Kns8grBLQus"
      },
      "source": [
        "##1.5머신러닝의 주요 도전 과제"
      ]
    },
    {
      "cell_type": "markdown",
      "metadata": {
        "id": "UAZFAa6MTAPZ"
      },
      "source": [
        "머신러닝 프로젝트 중 문제가 되는 두 가지 '잘못된 알고리즘', '잘못된 데이터'"
      ]
    },
    {
      "cell_type": "markdown",
      "metadata": {
        "id": "KPxokz5PTR2C"
      },
      "source": [
        "* 충분하지 않은 양의 훈련 데이터\n",
        "* 대표성이 없는 훈련 데이터\n",
        "  * 샘플링 잡음(sampling noise) : 샘플링이 작을 때 발생하는 현상\n",
        "  * 샘플링 편향(sampling bias) : 잘못된 표본 추출 방법으로 발생하는 현상\n",
        "* 낮은 품질의 데이터\n",
        "  * 에러, 이상치, 잡음 등이 많은 데이터\n",
        "* 관련 없는 특성\n",
        "  * 좋은  특성을 찾아야함\n",
        "    * 특성 선택(feature selection) : 훈련에 가장 유용한 특성 선택\n",
        "    * 특성 추출(feature extraction) : 특성을 결합하여 더 유용한 특성 생성\n",
        "    * 새로운 데이터를 수집해 새 특성을 생성\n",
        "* 훈련 데이터 과대적합\n",
        "  * 과대적합(overfitting) : 모델이 훈련 데이터에만 너무 잘맞아 일반성을 잃음\n",
        "  * 규제(regularization) : 모델을 단순하게 하고 과대적합 위험을 감소시키기 위해 제약\n",
        "  * 자유도(degree of freedom) 부여 : 훈련 데이터를 모델에 맞추기 위한 두개의 자유도를 학습 알고리즘에 적용\n",
        "  * 하이퍼파라미터(hyperparameter) : 규제가 적용되는 학습 알고리즘의 파라미터\n",
        "* 훈련 데이터의 과소적합\n",
        "  * 과소적합(underfitting) : 과대적합의 반대로 모델이 너무 단순해서 데이터의 내재된 구조를 학습하지 못함\n",
        "    * 해결 기법\n",
        "    * 모델 파라미터가 더 많은 강력한 모델 선택\n",
        "    * 학습 알고리즘에 더 좋은 특성 제공\n",
        "    * 모델의 제약을 감소 (ex 규제 하이퍼파라미터 감소)"
      ]
    },
    {
      "cell_type": "markdown",
      "metadata": {
        "id": "Rw4WX98xcLOl"
      },
      "source": [
        "##1.6테스트와 검증"
      ]
    },
    {
      "cell_type": "markdown",
      "metadata": {
        "id": "TEg_Y4mye6YA"
      },
      "source": [
        "###"
      ]
    }
  ]
}