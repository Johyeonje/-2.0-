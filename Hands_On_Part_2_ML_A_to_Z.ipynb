{
  "nbformat": 4,
  "nbformat_minor": 0,
  "metadata": {
    "colab": {
      "name": "Hands_On_Part_2 ML A to Z.ipynb",
      "provenance": [],
      "collapsed_sections": [],
      "authorship_tag": "ABX9TyPd+/LGLPd5sybSbMFoopcX",
      "include_colab_link": true
    },
    "kernelspec": {
      "name": "python3",
      "display_name": "Python 3"
    }
  },
  "cells": [
    {
      "cell_type": "markdown",
      "metadata": {
        "id": "view-in-github",
        "colab_type": "text"
      },
      "source": [
        "<a href=\"https://colab.research.google.com/github/Johyeonje/Deep_Learning_Books/blob/master/Hands_On_Part_2_ML_A_to_Z.ipynb\" target=\"_parent\"><img src=\"https://colab.research.google.com/assets/colab-badge.svg\" alt=\"Open In Colab\"/></a>"
      ]
    },
    {
      "cell_type": "markdown",
      "metadata": {
        "id": "DM92D8xhSyCJ"
      },
      "source": [
        "#머신러닝 프로젝트 처음부터 끝까지"
      ]
    },
    {
      "cell_type": "markdown",
      "metadata": {
        "id": "NBmKvgZlS5Jm"
      },
      "source": [
        "1. 큰 그림을 본다\n",
        "2. 데이터 구한다\n",
        "3. 데이터 탐색, 시각화\n",
        "4. 데이터 준비\n",
        "5. 모델 선택, 훈련\n",
        "6. 모델 개선\n",
        "7. 솔루션 제시\n",
        "8. 론칭, 유지보수"
      ]
    },
    {
      "cell_type": "markdown",
      "metadata": {
        "id": "9jOnzy73TG0g"
      },
      "source": [
        "##2.2큰 그림 보기"
      ]
    },
    {
      "cell_type": "markdown",
      "metadata": {
        "id": "CBu3MVMeTVZ6"
      },
      "source": [
        "###2.2.1 문제 정의"
      ]
    },
    {
      "cell_type": "markdown",
      "metadata": {
        "id": "EMtUlC1wTcbN"
      },
      "source": [
        ": 무엇을 위한 프로젝트이며 어떤 결과값을 위한 모델인가?"
      ]
    },
    {
      "cell_type": "markdown",
      "metadata": {
        "id": "DyUYhZeyTiz4"
      },
      "source": [
        "####파이프 라인"
      ]
    },
    {
      "cell_type": "markdown",
      "metadata": {
        "id": "bM-7L9t1ToLc"
      },
      "source": [
        ": 데이터 처리 컴포넌트들이 연속되어 있는 것"
      ]
    },
    {
      "cell_type": "markdown",
      "metadata": {
        "id": "MPQPfUMPTrGT"
      },
      "source": [
        "####판단할 사항\n",
        "* 지도학습? 비지도 학습?\n",
        "* 예측에 사용할 특성의 수\n",
        "* 예측할 값의 수\n",
        "* 등등..."
      ]
    },
    {
      "cell_type": "markdown",
      "metadata": {
        "id": "WSXyqPPhUc-h"
      },
      "source": [
        "###2.2.2 성능 측정 지표 선택"
      ]
    },
    {
      "cell_type": "markdown",
      "metadata": {
        "id": "pM6Js4RGUkYr"
      },
      "source": [
        "성능 측정의 지표를 선택하는 단계    \n",
        "회귀 문제의 전형적인 성능 지표는 **평균 제곱 오차(RMSE)**    \n",
        "$RMSE(X,h)=\\sqrt{\\frac{1}{m}\\sum^{m}_{i=1}(h(x^{(i)})-y^{(i)})^2}$"
      ]
    },
    {
      "cell_type": "markdown",
      "metadata": {
        "id": "Yla83crOVQyS"
      },
      "source": [
        "* 여기서 m은 RMSE를 측정할 데이터셋에 있는 샘플의 수이다.    \n",
        "* $x^{(i)}$ 는 데이터 셋에 있는 i번째 샘플(without label)의 전체 특성값의 벡터이고,    \n",
        "* $y^{(i)}$ 는 해당 레이블(샘플의 기대 출력값)이다.\n",
        "* X는 데이터셋에 있는 모든 샘플의 모든 특성값(without label)을 포함하는 행렬이다.\n",
        "* 샘플 하나가 하나의 행이어서 i번째 행은 $x^{(i)}$의 전치와 같고 $(x^{(i)})^r$으로 표기한다.\n",
        "* h는 시스템의 예측 함수이며 가설(hypothesis)이라고도 한다.\n",
        "* 시스템이 하나의 샘플 특성 벡터 $x^{(i)}$ 를 받으면 그 샘플에 대한 예측값 $\\hat{y}^{(i)} = h(x^{(i)})$를 출력한다.\n",
        "* RMSE(X,h)는 가설 h를 사용하여 일련의 샘플을 평가하는 비용 함수이다."
      ]
    },
    {
      "cell_type": "markdown",
      "metadata": {
        "id": "WUB9Ja9YWIVN"
      },
      "source": [
        "회귀문제에서 일반적으로 RMSE를 선호하지만 경우에 따라 다른 함수를 쓴다.    \n",
        "    "
      ]
    },
    {
      "cell_type": "markdown",
      "metadata": {
        "id": "YzxixaF8YlO5"
      },
      "source": [
        "평균 절대 오차(mean absolute error)    \n",
        "$MAE(X,h)=\\frac{1}{m}\\sum^{m}_{i=1}|h(x^{(i)})-y^{(i)}|$"
      ]
    },
    {
      "cell_type": "markdown",
      "metadata": {
        "id": "PmcTTDRlZK4-"
      },
      "source": [
        "RMSE와 MAE모두 예측값의 벡터와 타깃값의 벡터 사이의 거리를 재는 방법이다.    \n",
        "거리 측정에는 여러가지 방법(or 노름(norm))이 가능하다."
      ]
    },
    {
      "cell_type": "markdown",
      "metadata": {
        "id": "eqG6RnF0ZUFR"
      },
      "source": [
        "* 제곱항을 합한 것의 제곱근(RMSE) 계산은 유클리디안 노름(Euclidean norm)에 해당한다. 거리 개념이다.$(\\ell_2)$노름이라고 부르며 $||\\cdot||_2$로 표기한다.\n",
        "* 절대값의 합을 계산하는 것은 $\\ell_1$노름에 해당하며 $||\\cdot||_1$로 표기한다. 직각으로 나뉘어 있을 때 이 두 지점사이의 거리를 측정하는 것 같아 맨해튼 노름(Manhattan norm)이라고도 한다.\n",
        "* 일반적으로 원소가 n개인 벡터 v의 $\\ell_k$노름은 $||v||_k = (|v_0|^k+|v_1|^k+\\cdot\\cdot\\cdot+|v_n|^k)^{\\frac{1}{k}}$으로 정의한다. $\\ell_0$은 단순 벡터에 있는 0이 아닌 원소의 수이고, $\\ell_\\infty$는 벡터에서 가장 큰 절댓값이 된다.\n",
        "* 노름의 지수가 클수록 큰 값의 원소에 치우치며 작은 값은 무시된다. 그래서 RMSE가 MAE보다 조금 더 이상치에 민감하다. 하지만 이상치가 드물면 RMSE가 잘 맞아서 널리 사용된다."
      ]
    },
    {
      "cell_type": "markdown",
      "metadata": {
        "id": "tSSdHvDScW_E"
      },
      "source": [
        "###2.2.3 가정 검사"
      ]
    },
    {
      "cell_type": "markdown",
      "metadata": {
        "id": "p2LXhgWbcagp"
      },
      "source": [
        "마지막으로 가정에 대한 고찰"
      ]
    },
    {
      "cell_type": "markdown",
      "metadata": {
        "id": "bFSGoUb4chEn"
      },
      "source": [
        "##2.3데이터 가져오기"
      ]
    },
    {
      "cell_type": "markdown",
      "metadata": {
        "id": "5gmB8Y1GcmUe"
      },
      "source": [
        "###2.3.3 데이터 훑어보기"
      ]
    },
    {
      "cell_type": "markdown",
      "metadata": {
        "id": "jk3roYaucyHP"
      },
      "source": [
        "* 데이터의 형태를 보고 특성별 최대값과 최소값에 대한 정보를 파악한다.\n",
        "* 한계값을 초과하거나 비정상 적인 값에 대해서 제거 또는 결측치 채우기를 통한 수정을 한다.\n",
        "* 적당한 값을 뽑아낼 수 있는 형태로의 변형을 한다."
      ]
    },
    {
      "cell_type": "markdown",
      "metadata": {
        "id": "P6SFcOBldyFz"
      },
      "source": [
        "###2.3.4 테스트 세트 만들기"
      ]
    },
    {
      "cell_type": "markdown",
      "metadata": {
        "id": "ILThYsFed05e"
      },
      "source": [
        "* 학습 데이터의 일부를 떼어내 검증데이터로 만들어 낸다.\n",
        "* 데이터 스누핑(data snooping) 편향 : 테스트세트의 특성 편향으로 성능에 대한 잘못된 예측을 하게 된다면 론칭 후에 기대 성능이 나오지 않을 수 있다.    \n",
        "    \n",
        "        \n",
        "* 계층적 샘플링(stratified sampling) : 실제 상황을 어느정도 반영하여 학습 및 테스트 데이터의 비율이나 특성을 적용해야 한다."
      ]
    },
    {
      "cell_type": "markdown",
      "metadata": {
        "id": "hJ_71_7CLoQC"
      },
      "source": [
        "##2.5머신러닝 알고리즘을 위한 데이터 준비"
      ]
    },
    {
      "cell_type": "markdown",
      "metadata": {
        "id": "cioXkAhQLrLa"
      },
      "source": [
        "**원-핫 인코딩** : 한 특성만 1이고 나머지가 0    \n",
        "원-핫 인코딩의 경우 클래스가 수천 개인 범주형 특성일 경우 매우 비효율 적이기 때문에 원소 위치만을 저장하는 방식을 사용해야한다. = sparse matrics"
      ]
    },
    {
      "cell_type": "markdown",
      "metadata": {
        "id": "HDQmNXYsP-L8"
      },
      "source": [
        ""
      ]
    }
  ]
}