{
  "nbformat": 4,
  "nbformat_minor": 0,
  "metadata": {
    "colab": {
      "name": "1장 파이썬과 머신러닝 그리고 캐글.ipynb",
      "provenance": [],
      "collapsed_sections": [],
      "authorship_tag": "ABX9TyPim56/6sJHl2njA53vCkb5",
      "include_colab_link": true
    },
    "kernelspec": {
      "name": "python3",
      "display_name": "Python 3"
    }
  },
  "cells": [
    {
      "cell_type": "markdown",
      "metadata": {
        "id": "view-in-github",
        "colab_type": "text"
      },
      "source": [
        "<a href=\"https://colab.research.google.com/github/Johyeonje/Deep_Learning_Books/blob/master/1%EC%9E%A5_%ED%8C%8C%EC%9D%B4%EC%8D%AC%EA%B3%BC_%EB%A8%B8%EC%8B%A0%EB%9F%AC%EB%8B%9D_%EA%B7%B8%EB%A6%AC%EA%B3%A0_%EC%BA%90%EA%B8%80.ipynb\" target=\"_parent\"><img src=\"https://colab.research.google.com/assets/colab-badge.svg\" alt=\"Open In Colab\"/></a>"
      ]
    },
    {
      "cell_type": "markdown",
      "metadata": {
        "id": "6hHn5dRn2CzN"
      },
      "source": [
        "#1장"
      ]
    },
    {
      "cell_type": "markdown",
      "metadata": {
        "id": "cjJmc87J2SL1"
      },
      "source": [
        "##1.4 실질적인 팁"
      ]
    },
    {
      "cell_type": "markdown",
      "metadata": {
        "id": "HbH5lrB32Ulk"
      },
      "source": [
        "###소프트웨어 라이브러리"
      ]
    },
    {
      "cell_type": "markdown",
      "metadata": {
        "id": "wpNNOhlJ2eRX"
      },
      "source": [
        "데이터 전처리 : numpy, pandas    \n",
        "데이터 시각화 : matplotlib, seaborn"
      ]
    },
    {
      "cell_type": "markdown",
      "metadata": {
        "id": "TQ4gIqi-2qse"
      },
      "source": [
        "가장 많이 사용되는 모델은 트리 기반 모델   \n",
        "* Tabular 형태의 데이터가 제공되는 경진대회의 경우\n",
        "  * Gradient Boosting Decision Trees 라이브러리\n",
        "    * XGBoost\n",
        "    * LightGBM\n",
        "    * CatBoost\n",
        "  * 사이킷-런(Scikit-learn)\n",
        "    * Bagging 기반 - 모델 다양성 추가를 위해\n",
        "      * RandomForest\n",
        "      * ExtraTrees"
      ]
    },
    {
      "cell_type": "markdown",
      "metadata": {
        "id": "5owTMtZA3Xxe"
      },
      "source": [
        "* 신경망 네트워크 모델을 개발하기 위해\n",
        "  * 파이토치 (주로)\n",
        "  * 텐서플로 (주로)\n",
        "  * 케라스\n",
        "  * 라자냐(Lasagne)\n",
        "  * 카페2\n",
        "  * H2O"
      ]
    },
    {
      "cell_type": "markdown",
      "metadata": {
        "id": "3OcfLlnR3nnX"
      },
      "source": [
        "* 선형 모델이 트리 모델과 비슷한 성능일 때\n",
        "  * 사이킷-런\n",
        "    * SVM\n",
        "    * Logistic Regression\n",
        "* 하이퍼 파라미터 최적화 작업\n",
        "  * AutoML 라이브러리\n",
        "    * hyperopt\n",
        "    * scikit-optimize\n",
        "    * spearmint"
      ]
    },
    {
      "cell_type": "markdown",
      "metadata": {
        "id": "QsR1oWko4CQ0"
      },
      "source": [
        "###Baseline 모델"
      ]
    },
    {
      "cell_type": "markdown",
      "metadata": {
        "id": "DwfkjKqh4K4m"
      },
      "source": [
        ": 최소한의 성능을 보이는 기본 머신러닝 파이프라인   \n",
        "   \n",
        "먼저 실행만 되게끔 구축하는 것이다.   \n",
        "\n",
        "구축이유\n",
        "* 머신러닝 파이프라인이 올바르게 동작하는지 확인 가능\n",
        "* 새로운 아이디어에 대한 구현한 모델의 성능 비교의 기준점"
      ]
    },
    {
      "cell_type": "code",
      "metadata": {
        "id": "Xz0yyQwxDcsl"
      },
      "source": [
        ""
      ],
      "execution_count": null,
      "outputs": []
    }
  ]
}