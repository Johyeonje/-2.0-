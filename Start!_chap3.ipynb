{
  "nbformat": 4,
  "nbformat_minor": 0,
  "metadata": {
    "colab": {
      "name": "Start!_chap3.ipynb",
      "provenance": [],
      "collapsed_sections": [],
      "toc_visible": true,
      "authorship_tag": "ABX9TyP4nAf2B/Hzdh4PjR7uFaw9",
      "include_colab_link": true
    },
    "kernelspec": {
      "name": "python3",
      "display_name": "Python 3"
    },
    "accelerator": "GPU"
  },
  "cells": [
    {
      "cell_type": "markdown",
      "metadata": {
        "id": "view-in-github",
        "colab_type": "text"
      },
      "source": [
        "<a href=\"https://colab.research.google.com/github/Johyeonje/DeepLearningStudy/blob/master/Start!_chap3.ipynb\" target=\"_parent\"><img src=\"https://colab.research.google.com/assets/colab-badge.svg\" alt=\"Open In Colab\"/></a>"
      ]
    },
    {
      "cell_type": "code",
      "metadata": {
        "id": "h3eTr0RjGw_x",
        "colab_type": "code",
        "colab": {}
      },
      "source": [
        "try:\n",
        "  # %tensorflow_version only exists in Colab.\n",
        "  %tensorflow_version 2.x\n",
        "except Exception:\n",
        "  pass\n",
        "import tensorflow as tf"
      ],
      "execution_count": 2,
      "outputs": []
    },
    {
      "cell_type": "code",
      "metadata": {
        "id": "j7kM_ROJHE2W",
        "colab_type": "code",
        "colab": {
          "base_uri": "https://localhost:8080/",
          "height": 35
        },
        "outputId": "2a7c4651-5a28-4c9f-de19-ead2d32340af"
      },
      "source": [
        "import tensorflow as tf\n",
        "print(tf.__version__)"
      ],
      "execution_count": 3,
      "outputs": [
        {
          "output_type": "stream",
          "text": [
            "2.3.0\n"
          ],
          "name": "stdout"
        }
      ]
    },
    {
      "cell_type": "code",
      "metadata": {
        "id": "LeJsTOHYHRo7",
        "colab_type": "code",
        "colab": {
          "base_uri": "https://localhost:8080/",
          "height": 35
        },
        "outputId": "04a514fc-dd3e-4db0-d2e0-70aad6250957"
      },
      "source": [
        "import tensorflow as tf\n",
        "print(tf.__version__)"
      ],
      "execution_count": 5,
      "outputs": [
        {
          "output_type": "stream",
          "text": [
            "2.3.0\n"
          ],
          "name": "stdout"
        }
      ]
    },
    {
      "cell_type": "code",
      "metadata": {
        "id": "clqRgY-dH1oi",
        "colab_type": "code",
        "colab": {
          "base_uri": "https://localhost:8080/",
          "height": 457
        },
        "outputId": "8edecaab-888e-4b60-e188-ae1c78704aa0"
      },
      "source": [
        "rand = tf.random.uniform([5,2,7],0,1)\n",
        "print(rand)"
      ],
      "execution_count": null,
      "outputs": [
        {
          "output_type": "stream",
          "text": [
            "tf.Tensor(\n",
            "[[[0.57667136 0.8302016  0.31808782 0.5977895  0.8865992  0.4212494\n",
            "   0.6597885 ]\n",
            "  [0.27787316 0.5321523  0.15692616 0.9381031  0.8616502  0.3457532\n",
            "   0.9065517 ]]\n",
            "\n",
            " [[0.54638684 0.01337123 0.42500603 0.49188364 0.20578778 0.17128456\n",
            "   0.97990084]\n",
            "  [0.7698848  0.97178924 0.81158197 0.28330326 0.61053586 0.79979885\n",
            "   0.48100924]]\n",
            "\n",
            " [[0.67194366 0.24397767 0.27139235 0.49604082 0.7736361  0.73921335\n",
            "   0.9311284 ]\n",
            "  [0.55659854 0.25014853 0.68079984 0.04226971 0.93358827 0.94981635\n",
            "   0.77194846]]\n",
            "\n",
            " [[0.6452894  0.6589117  0.3828447  0.37553787 0.7423141  0.7938397\n",
            "   0.6521046 ]\n",
            "  [0.00900161 0.46521676 0.96551716 0.55483174 0.11751163 0.40153384\n",
            "   0.7464013 ]]\n",
            "\n",
            " [[0.1868838  0.29688072 0.8919275  0.02381349 0.931638   0.6607002\n",
            "   0.03954256]\n",
            "  [0.03715754 0.999092   0.28859746 0.17784691 0.966768   0.2741934\n",
            "   0.36291385]]], shape=(5, 2, 7), dtype=float32)\n"
          ],
          "name": "stdout"
        }
      ]
    },
    {
      "cell_type": "markdown",
      "metadata": {
        "id": "ytCXrN7xKPSh",
        "colab_type": "text"
      },
      "source": [
        "##정규분포 rand 함수"
      ]
    },
    {
      "cell_type": "code",
      "metadata": {
        "id": "HQdLnYHnH_BA",
        "colab_type": "code",
        "colab": {
          "base_uri": "https://localhost:8080/",
          "height": 34
        },
        "outputId": "7c189a7a-00d3-466c-be67-4f86e99b4a0d"
      },
      "source": [
        "rand = tf.random.normal([5],0,0.1)\n",
        "print(rand)"
      ],
      "execution_count": null,
      "outputs": [
        {
          "output_type": "stream",
          "text": [
            "tf.Tensor([ 0.13061146  0.10081607  0.0860922  -0.01830174  0.00428041], shape=(5,), dtype=float32)\n"
          ],
          "name": "stdout"
        }
      ]
    },
    {
      "cell_type": "code",
      "metadata": {
        "id": "Y5lwUiQpK7B6",
        "colab_type": "code",
        "colab": {}
      },
      "source": [
        "import math\n",
        "def sigmoid(x):\n",
        "  return 1 / (1+math.exp(-x))"
      ],
      "execution_count": null,
      "outputs": []
    },
    {
      "cell_type": "code",
      "metadata": {
        "id": "L4dUEFe5J0jY",
        "colab_type": "code",
        "colab": {
          "base_uri": "https://localhost:8080/",
          "height": 34
        },
        "outputId": "16eb9923-7a7a-4849-a2b6-615a79068596"
      },
      "source": [
        "x = 1\n",
        "y = 0\n",
        "w = tf.random.normal([1],0,1)\n",
        "output = sigmoid(x*w)\n",
        "print(output)"
      ],
      "execution_count": null,
      "outputs": [
        {
          "output_type": "stream",
          "text": [
            "0.5989836406471405\n"
          ],
          "name": "stdout"
        }
      ]
    },
    {
      "cell_type": "code",
      "metadata": {
        "id": "THqpkgukK4kq",
        "colab_type": "code",
        "colab": {
          "base_uri": "https://localhost:8080/",
          "height": 193
        },
        "outputId": "c3cd3a20-c681-4cf1-dbde-1ded532eaed7"
      },
      "source": [
        "for i in range(1000):\n",
        "  output = sigmoid(x + w)\n",
        "  error = y - output\n",
        "  w = w + x * 0.1 * error\n",
        "\n",
        "  if i %100 == 99:\n",
        "    print(i, error, output)"
      ],
      "execution_count": null,
      "outputs": [
        {
          "output_type": "stream",
          "text": [
            "99 -0.1264948434748756 0.1264948434748756\n",
            "199 -0.05848722242056388 0.05848722242056388\n",
            "299 -0.0375179080237256 0.0375179080237256\n",
            "399 -0.02751110290473762 0.02751110290473762\n",
            "499 -0.021684062404618426 0.021684062404618426\n",
            "599 -0.017879617833581555 0.017879617833581555\n",
            "699 -0.0152038205502877 0.0152038205502877\n",
            "799 -0.013220843378306604 0.013220843378306604\n",
            "899 -0.011693196880384409 0.011693196880384409\n",
            "999 -0.010480572288990625 0.010480572288990625\n"
          ],
          "name": "stdout"
        }
      ]
    },
    {
      "cell_type": "code",
      "metadata": {
        "id": "UCPnuTMFLSU2",
        "colab_type": "code",
        "colab": {
          "base_uri": "https://localhost:8080/",
          "height": 193
        },
        "outputId": "5dbf64cb-3634-4091-9507-6c4fdfcf3aab"
      },
      "source": [
        "x = 0\n",
        "y = 1\n",
        "w = tf.random.normal([1],0,1)\n",
        "\n",
        "for i in range(1000):\n",
        "  output = sigmoid(x*w)\n",
        "  error = y - output\n",
        "  w = w + x * 0.1 * error\n",
        "\n",
        "  if i % 100 == 99:\n",
        "    print(i, error, output)"
      ],
      "execution_count": null,
      "outputs": [
        {
          "output_type": "stream",
          "text": [
            "99 0.5 0.5\n",
            "199 0.5 0.5\n",
            "299 0.5 0.5\n",
            "399 0.5 0.5\n",
            "499 0.5 0.5\n",
            "599 0.5 0.5\n",
            "699 0.5 0.5\n",
            "799 0.5 0.5\n",
            "899 0.5 0.5\n",
            "999 0.5 0.5\n"
          ],
          "name": "stdout"
        }
      ]
    },
    {
      "cell_type": "markdown",
      "metadata": {
        "id": "Kzh1tf09P2Fo",
        "colab_type": "text"
      },
      "source": [
        "##편향의 추가 : b"
      ]
    },
    {
      "cell_type": "markdown",
      "metadata": {
        "id": "0tYaFwDKOiGN",
        "colab_type": "text"
      },
      "source": [
        "###의문점 : x가 0이면 아무리 반복해도 w에 영향을 줄 수 없는데?\n",
        "답 : 목표 자체가 틀렸다. w를 바꾸는게 목표가 아니라 y를 1로 만드는 것이 목표이기 때문에 b값이 바뀌면서 1로 수렴되는 것이 핵심이다."
      ]
    },
    {
      "cell_type": "code",
      "metadata": {
        "id": "ELoDZhDJMNF4",
        "colab_type": "code",
        "colab": {
          "base_uri": "https://localhost:8080/",
          "height": 193
        },
        "outputId": "ca9ce224-1cab-46db-c11a-f26ab0214a13"
      },
      "source": [
        "x = 0\n",
        "y = 1\n",
        "w = tf.random.normal([1], 0, 1)\n",
        "b = tf.random.normal([1], 0, 1)\n",
        "\n",
        "for i in range(1000):\n",
        "  output = sigmoid(x*w + 1*b)\n",
        "  error = y - output\n",
        "  w = w + x * 0.1 * error\n",
        "  b = b + 1 * 0.1 * error\n",
        "\n",
        "  if i % 100 == 99:\n",
        "    print(i, error, output)"
      ],
      "execution_count": null,
      "outputs": [
        {
          "output_type": "stream",
          "text": [
            "99 0.07886557319555731 0.9211344268044427\n",
            "199 0.04521710498778542 0.9547828950122146\n",
            "299 0.03148863187954842 0.9685113681204516\n",
            "399 0.024098811494580485 0.9759011885054195\n",
            "499 0.01949704372120009 0.9805029562787999\n",
            "599 0.016361256564710103 0.9836387434352899\n",
            "699 0.01408933682255653 0.9859106631774435\n",
            "799 0.012368584204575206 0.9876314157954248\n",
            "899 0.011020626196954875 0.9889793738030451\n",
            "999 0.009936456233811342 0.9900635437661887\n"
          ],
          "name": "stdout"
        }
      ]
    },
    {
      "cell_type": "code",
      "metadata": {
        "id": "uOs22k4WOZfC",
        "colab_type": "code",
        "colab": {
          "base_uri": "https://localhost:8080/",
          "height": 52
        },
        "outputId": "3483ce2a-e59e-48ab-c5d4-4f21fe9bb7a7"
      },
      "source": [
        "print(int(True))\n",
        "print(int(False))"
      ],
      "execution_count": null,
      "outputs": [
        {
          "output_type": "stream",
          "text": [
            "1\n",
            "0\n"
          ],
          "name": "stdout"
        }
      ]
    },
    {
      "cell_type": "markdown",
      "metadata": {
        "id": "Fm0Q_qMgwmnS",
        "colab_type": "text"
      },
      "source": [
        "##왜     w = w + x[j] * 0.1 * error 식일까?"
      ]
    },
    {
      "cell_type": "code",
      "metadata": {
        "id": "h0uHa9HLPBvZ",
        "colab_type": "code",
        "colab": {
          "base_uri": "https://localhost:8080/",
          "height": 193
        },
        "outputId": "5d1da7f8-e7c6-4e7d-f53d-45ab4e291fd7"
      },
      "source": [
        "import numpy as np\n",
        "x = np.array([[1,1], [1,0], [0,1], [0,0]])\n",
        "y = np.array([[1],[0],[0],[0]])\n",
        "w = tf.random.normal([2],0,1)\n",
        "b = tf.random.normal([1],0,1)\n",
        "b_x = 1\n",
        "\n",
        "for i in range(2000):\n",
        "  error_sum = 0\n",
        "  for j in range(4):\n",
        "    output = sigmoid(np.sum(x[j]*w)+b_x*b)\n",
        "    error = y[j][0] - output\n",
        "    w = w + x[j] * 0.1 * error\n",
        "    b = b + b_x * 0.1 * error\n",
        "    error_sum += error\n",
        "\n",
        "  if i % 200 == 199:\n",
        "    print(i, error_sum)"
      ],
      "execution_count": null,
      "outputs": [
        {
          "output_type": "stream",
          "text": [
            "199 -0.11122744174568996\n",
            "399 -0.0660273966411591\n",
            "599 -0.04684133947511528\n",
            "799 -0.03618834333284495\n",
            "999 -0.029429293902025\n",
            "1199 -0.024768460618457874\n",
            "1399 -0.021366356707370728\n",
            "1599 -0.01877667971157795\n",
            "1799 -0.01673890218909754\n",
            "1999 -0.015096331787054877\n"
          ],
          "name": "stdout"
        }
      ]
    },
    {
      "cell_type": "code",
      "metadata": {
        "id": "LErF6WT5RN-y",
        "colab_type": "code",
        "colab": {
          "base_uri": "https://localhost:8080/",
          "height": 70
        },
        "outputId": "c040dfd4-b088-4df8-f0a2-d0c64f4f1258"
      },
      "source": [
        "print([1,2,3]*2)\n",
        "print([1,2,3]*0)\n",
        "print([1,2,3]*-1)"
      ],
      "execution_count": null,
      "outputs": [
        {
          "output_type": "stream",
          "text": [
            "[1, 2, 3, 1, 2, 3]\n",
            "[]\n",
            "[]\n"
          ],
          "name": "stdout"
        }
      ]
    },
    {
      "cell_type": "code",
      "metadata": {
        "id": "5-RmhZqfSumO",
        "colab_type": "code",
        "colab": {
          "base_uri": "https://localhost:8080/",
          "height": 169
        },
        "outputId": "f8520068-1169-4616-93c3-01f33d31fdc1"
      },
      "source": [
        "print([1,2,3]*0.01)"
      ],
      "execution_count": null,
      "outputs": [
        {
          "output_type": "error",
          "ename": "TypeError",
          "evalue": "ignored",
          "traceback": [
            "\u001b[0;31m---------------------------------------------------------------------------\u001b[0m",
            "\u001b[0;31mTypeError\u001b[0m                                 Traceback (most recent call last)",
            "\u001b[0;32m<ipython-input-35-3f950372c2b1>\u001b[0m in \u001b[0;36m<module>\u001b[0;34m()\u001b[0m\n\u001b[0;32m----> 1\u001b[0;31m \u001b[0mprint\u001b[0m\u001b[0;34m(\u001b[0m\u001b[0;34m[\u001b[0m\u001b[0;36m1\u001b[0m\u001b[0;34m,\u001b[0m\u001b[0;36m2\u001b[0m\u001b[0;34m,\u001b[0m\u001b[0;36m3\u001b[0m\u001b[0;34m]\u001b[0m\u001b[0;34m*\u001b[0m\u001b[0;36m0.01\u001b[0m\u001b[0;34m)\u001b[0m\u001b[0;34m\u001b[0m\u001b[0;34m\u001b[0m\u001b[0m\n\u001b[0m",
            "\u001b[0;31mTypeError\u001b[0m: can't multiply sequence by non-int of type 'float'"
          ]
        }
      ]
    },
    {
      "cell_type": "code",
      "metadata": {
        "id": "EnP1jL9HSx3u",
        "colab_type": "code",
        "colab": {
          "base_uri": "https://localhost:8080/",
          "height": 169
        },
        "outputId": "c074cf5d-7d2e-4946-f76f-36f720ffd02f"
      },
      "source": [
        "print([0.1,0.2,0.3]*0.01)"
      ],
      "execution_count": null,
      "outputs": [
        {
          "output_type": "error",
          "ename": "TypeError",
          "evalue": "ignored",
          "traceback": [
            "\u001b[0;31m---------------------------------------------------------------------------\u001b[0m",
            "\u001b[0;31mTypeError\u001b[0m                                 Traceback (most recent call last)",
            "\u001b[0;32m<ipython-input-38-fe722b0f447e>\u001b[0m in \u001b[0;36m<module>\u001b[0;34m()\u001b[0m\n\u001b[0;32m----> 1\u001b[0;31m \u001b[0mprint\u001b[0m\u001b[0;34m(\u001b[0m\u001b[0;34m[\u001b[0m\u001b[0;36m0.1\u001b[0m\u001b[0;34m,\u001b[0m\u001b[0;36m0.2\u001b[0m\u001b[0;34m,\u001b[0m\u001b[0;36m0.3\u001b[0m\u001b[0;34m]\u001b[0m\u001b[0;34m*\u001b[0m\u001b[0;36m0.01\u001b[0m\u001b[0;34m)\u001b[0m\u001b[0;34m\u001b[0m\u001b[0;34m\u001b[0m\u001b[0m\n\u001b[0m",
            "\u001b[0;31mTypeError\u001b[0m: can't multiply sequence by non-int of type 'float'"
          ]
        }
      ]
    },
    {
      "cell_type": "markdown",
      "metadata": {
        "id": "tKZyRN_ETfUl",
        "colab_type": "text"
      },
      "source": [
        "원소에 대한 연산"
      ]
    },
    {
      "cell_type": "code",
      "metadata": {
        "id": "CPoo4XwkS6L1",
        "colab_type": "code",
        "colab": {
          "base_uri": "https://localhost:8080/",
          "height": 87
        },
        "outputId": "94a7982c-d5a7-4c21-f621-6b7e292ec71d"
      },
      "source": [
        "import numpy as np\n",
        "print(np.array([1,2,3])*2)\n",
        "print(np.array([1,2,3])*0)\n",
        "print(np.array([1,2,3])*-1)\n",
        "print(np.array([1,2,3])*0.01)"
      ],
      "execution_count": null,
      "outputs": [
        {
          "output_type": "stream",
          "text": [
            "[2 4 6]\n",
            "[0 0 0]\n",
            "[-1 -2 -3]\n",
            "[0.01 0.02 0.03]\n"
          ],
          "name": "stdout"
        }
      ]
    },
    {
      "cell_type": "markdown",
      "metadata": {
        "id": "kw35VIPyU9bM",
        "colab_type": "text"
      },
      "source": [
        "And 신경망 네트워크"
      ]
    },
    {
      "cell_type": "code",
      "metadata": {
        "id": "lXGv9e4STIRl",
        "colab_type": "code",
        "colab": {
          "base_uri": "https://localhost:8080/",
          "height": 87
        },
        "outputId": "f863e92f-1e45-47ea-b10f-99b7ded7d14d"
      },
      "source": [
        "for i in range(4):\n",
        "  print('X:',x[i],'Y:',y[i],'Output:',sigmoid(np.sum(x[i]*w)+b))"
      ],
      "execution_count": null,
      "outputs": [
        {
          "output_type": "stream",
          "text": [
            "X: [1 1] Y: [1] Output: 0.9647551545710068\n",
            "X: [1 0] Y: [0] Output: 0.02497491415594325\n",
            "X: [0 1] Y: [0] Output: 0.025051560190716825\n",
            "X: [0 0] Y: [0] Output: 2.4044137212425957e-05\n"
          ],
          "name": "stdout"
        }
      ]
    },
    {
      "cell_type": "markdown",
      "metadata": {
        "id": "CY-E8ISkUfIV",
        "colab_type": "text"
      },
      "source": [
        "Or 신경망 네트워크"
      ]
    },
    {
      "cell_type": "code",
      "metadata": {
        "id": "VkYXftBSVCVP",
        "colab_type": "code",
        "colab": {
          "base_uri": "https://localhost:8080/",
          "height": 193
        },
        "outputId": "a66ddbcc-d6e0-4ace-a2e5-a539fb0c8e25"
      },
      "source": [
        "import numpy as np\n",
        "x = np.array([[1,1],[1,0],[0,1],[0,0]])\n",
        "y = np.array([[1],[1],[1],[0]])\n",
        "w = tf.random.normal([2],0,1)\n",
        "b = tf.random.normal([1],0,1)\n",
        "b_x = 1\n",
        "\n",
        "for i in range(2000):\n",
        "  error_sum = 0\n",
        "  for j in range(4):\n",
        "    output = sigmoid(np.sum(x[j]*w)+b*b_x)\n",
        "    error = y[j][0] - output\n",
        "    w = w + x[j] * 0.1 * error\n",
        "    b = b + b_x * 0.1 * error\n",
        "    error_sum += error\n",
        "\n",
        "  if i % 200 == 199:\n",
        "    print(i, error_sum)"
      ],
      "execution_count": null,
      "outputs": [
        {
          "output_type": "stream",
          "text": [
            "199 -0.04628697301483051\n",
            "399 -0.024943789464739227\n",
            "599 -0.01696359314933585\n",
            "799 -0.012809243116731747\n",
            "999 -0.010271578748136535\n",
            "1199 -0.008564302500295655\n",
            "1399 -0.0073393535515870745\n",
            "1599 -0.006417913210041634\n",
            "1799 -0.005700996774932465\n",
            "1999 -0.005125767878546683\n"
          ],
          "name": "stdout"
        }
      ]
    },
    {
      "cell_type": "code",
      "metadata": {
        "id": "Q_Tiw1OlV78a",
        "colab_type": "code",
        "colab": {
          "base_uri": "https://localhost:8080/",
          "height": 87
        },
        "outputId": "37a37e30-c920-45d7-d6ce-4144ca2abfe3"
      },
      "source": [
        "for i in range(4):\n",
        "  print('X:',x[i],'Y:',y[i],'Output:',sigmoid(np.sum(x[i]*w)+b))"
      ],
      "execution_count": null,
      "outputs": [
        {
          "output_type": "stream",
          "text": [
            "X: [1 1] Y: [1] Output: 0.9999972444989114\n",
            "X: [1 0] Y: [1] Output: 0.9898399808327298\n",
            "X: [0 1] Y: [1] Output: 0.9898104175387653\n",
            "X: [0 0] Y: [0] Output: 0.025414868585844103\n"
          ],
          "name": "stdout"
        }
      ]
    },
    {
      "cell_type": "markdown",
      "metadata": {
        "id": "s1nsJtFUWK7v",
        "colab_type": "text"
      },
      "source": [
        "XOR 신경망 네트워크"
      ]
    },
    {
      "cell_type": "code",
      "metadata": {
        "id": "cAn1QevwWYog",
        "colab_type": "code",
        "colab": {
          "base_uri": "https://localhost:8080/",
          "height": 193
        },
        "outputId": "89013a22-1cbd-417d-c393-5f9d83f53d4d"
      },
      "source": [
        "import numpy as np\n",
        "x = np.array([[1,1],[1,0],[0,1],[0,0]])\n",
        "y = np.array([[0],[1],[1],[0]])\n",
        "w = tf.random.normal([2],0,1)\n",
        "b = tf.random.normal([1],0,1)\n",
        "b_x = 1\n",
        "\n",
        "for i in range(2000):\n",
        "  error_sum = 0\n",
        "  for j in range(4):\n",
        "    output = sigmoid(np.sum(x[j]*w)+b*b_x)\n",
        "    error = y[j][0] - output\n",
        "    w = w + x[j] * 0.1 * error\n",
        "    b = b + b_x * 0.1 * error\n",
        "    error_sum += error\n",
        "\n",
        "  if i % 200 == 199:\n",
        "    print(i, error_sum)"
      ],
      "execution_count": null,
      "outputs": [
        {
          "output_type": "stream",
          "text": [
            "199 0.0015295468959629632\n",
            "399 6.216566972516713e-05\n",
            "599 2.5250188937508966e-06\n",
            "799 1.265766355063036e-07\n",
            "999 1.8614210173240053e-09\n",
            "1199 1.8614210173240053e-09\n",
            "1399 1.8614210173240053e-09\n",
            "1599 1.8614210173240053e-09\n",
            "1799 1.8614210173240053e-09\n",
            "1999 1.8614210173240053e-09\n"
          ],
          "name": "stdout"
        }
      ]
    },
    {
      "cell_type": "code",
      "metadata": {
        "id": "6XW1OpXOWhy2",
        "colab_type": "code",
        "colab": {
          "base_uri": "https://localhost:8080/",
          "height": 87
        },
        "outputId": "56f164d2-b58d-4d25-b191-edb0fe6bdf20"
      },
      "source": [
        "for i in range(4):\n",
        "  print('X:',x[i],'Y:',y[i],'Output:',sigmoid(np.sum(x[i]*w)+b))"
      ],
      "execution_count": null,
      "outputs": [
        {
          "output_type": "stream",
          "text": [
            "X: [1 1] Y: [0] Output: 0.5128176323940516\n",
            "X: [1 0] Y: [1] Output: 0.5128176314633411\n",
            "X: [0 1] Y: [1] Output: 0.4999999990686774\n",
            "X: [0 0] Y: [0] Output: 0.49999999813735485\n"
          ],
          "name": "stdout"
        }
      ]
    },
    {
      "cell_type": "code",
      "metadata": {
        "id": "yG2ev-zlWsTn",
        "colab_type": "code",
        "colab": {
          "base_uri": "https://localhost:8080/",
          "height": 52
        },
        "outputId": "ae8b9f9f-6581-4b79-bf91-c7e76249ad5f"
      },
      "source": [
        "print('w:',w)\n",
        "print('b:',b)"
      ],
      "execution_count": null,
      "outputs": [
        {
          "output_type": "stream",
          "text": [
            "w: tf.Tensor([5.1281769e-02 3.7252903e-09], shape=(2,), dtype=float32)\n",
            "b: tf.Tensor([-7.450581e-09], shape=(1,), dtype=float32)\n"
          ],
          "name": "stdout"
        }
      ]
    },
    {
      "cell_type": "markdown",
      "metadata": {
        "id": "NXoEqaCgXHCg",
        "colab_type": "text"
      },
      "source": [
        "단층 신경망으로는 XOR과 같은 네트워크를 구현하기 어렵기 때문에 다층 신경망을 사용한다."
      ]
    },
    {
      "cell_type": "code",
      "metadata": {
        "id": "4qcSDEgGLCBA",
        "colab_type": "code",
        "colab": {
          "base_uri": "https://localhost:8080/",
          "height": 228
        },
        "outputId": "2f0e1219-176d-47f1-b475-925726c73662"
      },
      "source": [
        "import tensorflow as tf\n",
        "import numpy as np\n",
        "x = np.array([[1,1],[1,0],[0,1],[0,0]])\n",
        "y = np.array([[0],[1],[1],[0]])\n",
        "\n",
        "model = tf.keras.Sequential([\n",
        "                             tf.keras.layers.Dense(units=2, activation='sigmoid', input_shape=(2,)),\n",
        "                             tf.keras.layers.Dense(units=1, activation='sigmoid')\n",
        "])\n",
        "\n",
        "model.compile(optimizer=tf.keras.optimizers.SGD(lr=0.1), loss='mse')\n",
        "\n",
        "model.summary()"
      ],
      "execution_count": null,
      "outputs": [
        {
          "output_type": "stream",
          "text": [
            "Model: \"sequential\"\n",
            "_________________________________________________________________\n",
            "Layer (type)                 Output Shape              Param #   \n",
            "=================================================================\n",
            "dense (Dense)                (None, 2)                 6         \n",
            "_________________________________________________________________\n",
            "dense_1 (Dense)              (None, 1)                 3         \n",
            "=================================================================\n",
            "Total params: 9\n",
            "Trainable params: 9\n",
            "Non-trainable params: 0\n",
            "_________________________________________________________________\n"
          ],
          "name": "stdout"
        }
      ]
    },
    {
      "cell_type": "markdown",
      "metadata": {
        "id": "u34qGoJPCg5C",
        "colab_type": "text"
      },
      "source": [
        "#About Compile"
      ]
    },
    {
      "cell_type": "markdown",
      "metadata": {
        "id": "Jlqh_AcSCr-t",
        "colab_type": "text"
      },
      "source": [
        "##최적화 함수(Optimizer)\n",
        " : 딥러닝의 학습식을 정의하는 부분    \n",
        " keras에서는 미리 정의된 최적화 함수를 불러오는 것으로 바로 사용    \n",
        " SGD : 확률적 경사 하강법(Stochasitic Gradient Descent)의 약자로 가중치를 업데이트 할때 미분을 통해 기울기를 구하고 기울기가 낮은 쪽으로 업데이트를 하는 경사 하강법을 한번에 계산하지 않고 확률적으로 일부 샘플을 조금씩 나눠 계산하겠다는 뜻\n"
      ]
    },
    {
      "cell_type": "markdown",
      "metadata": {
        "id": "NLKCfKm1DUhj",
        "colab_type": "text"
      },
      "source": [
        "##손실(Loss)\n",
        " : 딥러닝 학습의 방향으로 지정되는 수치로 기대 출력에서 실제 출력을 뺀 값을 기반으로 도출    \n",
        " mse : 평균 제곱 오차(Mean Squared Error)의 약자로 기대출력에서 실제 출력을 뺀 뒤 제곱한 값의 평균"
      ]
    },
    {
      "cell_type": "code",
      "metadata": {
        "id": "fUSvxXYcL6Lc",
        "colab_type": "code",
        "colab": {}
      },
      "source": [
        "history = model.fit(x, y, epochs=2000, batch_size=1)"
      ],
      "execution_count": null,
      "outputs": []
    },
    {
      "cell_type": "code",
      "metadata": {
        "id": "iWDv04P9MQ70",
        "colab_type": "code",
        "colab": {
          "base_uri": "https://localhost:8080/",
          "height": 87
        },
        "outputId": "337d13d7-562f-4a1b-e862-b365e6221e07"
      },
      "source": [
        "model.predict(x)"
      ],
      "execution_count": null,
      "outputs": [
        {
          "output_type": "execute_result",
          "data": {
            "text/plain": [
              "array([[0.11759204],\n",
              "       [0.91151905],\n",
              "       [0.9111557 ],\n",
              "       [0.07420084]], dtype=float32)"
            ]
          },
          "metadata": {
            "tags": []
          },
          "execution_count": 7
        }
      ]
    },
    {
      "cell_type": "code",
      "metadata": {
        "id": "Ul9x9OahTwK5",
        "colab_type": "code",
        "colab": {
          "base_uri": "https://localhost:8080/",
          "height": 158
        },
        "outputId": "8113ec20-e780-4798-d658-d26897c01dc1"
      },
      "source": [
        "for weight in model.weights:\n",
        "  print(weight)"
      ],
      "execution_count": null,
      "outputs": [
        {
          "output_type": "stream",
          "text": [
            "<tf.Variable 'dense/kernel:0' shape=(2, 2) dtype=float32, numpy=\n",
            "array([[-3.4482832, -5.4945126],\n",
            "       [-3.4326172, -5.394544 ]], dtype=float32)>\n",
            "<tf.Variable 'dense/bias:0' shape=(2,) dtype=float32, numpy=array([5.002784 , 1.8949552], dtype=float32)>\n",
            "<tf.Variable 'dense_1/kernel:0' shape=(2, 1) dtype=float32, numpy=\n",
            "array([[ 6.544242 ],\n",
            "       [-7.0653973]], dtype=float32)>\n",
            "<tf.Variable 'dense_1/bias:0' shape=(1,) dtype=float32, numpy=array([-2.8823576], dtype=float32)>\n"
          ],
          "name": "stdout"
        }
      ]
    },
    {
      "cell_type": "markdown",
      "metadata": {
        "id": "B1cuaK0FT85N",
        "colab_type": "text"
      },
      "source": [
        "#시각화 기초"
      ]
    },
    {
      "cell_type": "markdown",
      "metadata": {
        "id": "JvjlwKZHW3jp",
        "colab_type": "text"
      },
      "source": [
        "###기초그래프"
      ]
    },
    {
      "cell_type": "code",
      "metadata": {
        "id": "1v_AZFhlUdfo",
        "colab_type": "code",
        "colab": {
          "base_uri": "https://localhost:8080/",
          "height": 265
        },
        "outputId": "40bc611e-c05c-44da-fe54-79fa1c77c693"
      },
      "source": [
        "import matplotlib.pyplot as plt\n",
        "x = range(20)\n",
        "y = tf.random.normal([20],0,1)\n",
        "plt.plot(x,y)\n",
        "plt.show()"
      ],
      "execution_count": null,
      "outputs": [
        {
          "output_type": "display_data",
          "data": {
            "image/png": "[encoded data removed]",
            "text/plain": [
              "<Figure size 432x288 with 1 Axes>"
            ]
          },
          "metadata": {
            "tags": [],
            "needs_background": "light"
          }
        }
      ]
    },
    {
      "cell_type": "markdown",
      "metadata": {
        "id": "4dJh0dycW7lK",
        "colab_type": "text"
      },
      "source": [
        "###점그래프"
      ]
    },
    {
      "cell_type": "code",
      "metadata": {
        "id": "s_YxuDQKUr9s",
        "colab_type": "code",
        "colab": {
          "base_uri": "https://localhost:8080/",
          "height": 265
        },
        "outputId": "17d0b105-aefa-447a-a7bf-83fdc2ac510f"
      },
      "source": [
        "import matplotlib.pyplot as plt\n",
        "x = range(20)\n",
        "y = tf.random.normal([20],0,1)\n",
        "plt.plot(x,y,'bo')\n",
        "plt.show()"
      ],
      "execution_count": null,
      "outputs": [
        {
          "output_type": "display_data",
          "data": {
            "image/png": "[encoded data removed]",
            "text/plain": [
              "<Figure size 432x288 with 1 Axes>"
            ]
          },
          "metadata": {
            "tags": [],
            "needs_background": "light"
          }
        }
      ]
    },
    {
      "cell_type": "markdown",
      "metadata": {
        "id": "zOnnG4Y3W_QF",
        "colab_type": "text"
      },
      "source": [
        "###히스토그램"
      ]
    },
    {
      "cell_type": "code",
      "metadata": {
        "id": "g3zpwuUkU3-a",
        "colab_type": "code",
        "colab": {
          "base_uri": "https://localhost:8080/",
          "height": 265
        },
        "outputId": "ff9c33dd-76cc-49af-ac81-613a225ed935"
      },
      "source": [
        "import matplotlib.pyplot as plt\n",
        "random_normal = tf.random.normal([100000],0,1)\n",
        "plt.hist(random_normal, bins=100)\n",
        "plt.show()"
      ],
      "execution_count": null,
      "outputs": [
        {
          "output_type": "display_data",
          "data": {
            "image/png": "[encoded data removed]",
            "text/plain": [
              "<Figure size 432x288 with 1 Axes>"
            ]
          },
          "metadata": {
            "tags": [],
            "needs_background": "light"
          }
        }
      ]
    },
    {
      "cell_type": "markdown",
      "metadata": {
        "id": "lLw-NU1lXHKZ",
        "colab_type": "text"
      },
      "source": [
        "###선그래프"
      ]
    },
    {
      "cell_type": "code",
      "metadata": {
        "id": "VKvjlCmhVP_G",
        "colab_type": "code",
        "colab": {
          "base_uri": "https://localhost:8080/",
          "height": 282
        },
        "outputId": "0704c7ad-0749-4f08-c1f7-d6f70f4cef12"
      },
      "source": [
        "import matplotlib.pyplot as plt\n",
        "plt.plot(history.history['loss'])"
      ],
      "execution_count": null,
      "outputs": [
        {
          "output_type": "execute_result",
          "data": {
            "text/plain": [
              "[<matplotlib.lines.Line2D at 0x7f5aea0b3278>]"
            ]
          },
          "metadata": {
            "tags": []
          },
          "execution_count": 13
        },
        {
          "output_type": "display_data",
          "data": {
            "image/png": "[encoded data removed]",
            "text/plain": [
              "<Figure size 432x288 with 1 Axes>"
            ]
          },
          "metadata": {
            "tags": [],
            "needs_background": "light"
          }
        }
      ]
    },
    {
      "cell_type": "code",
      "metadata": {
        "id": "u4xROdQgWaUv",
        "colab_type": "code",
        "colab": {}
      },
      "source": [
        ""
      ],
      "execution_count": null,
      "outputs": []
    }
  ]
}