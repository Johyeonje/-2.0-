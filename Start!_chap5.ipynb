{
  "nbformat": 4,
  "nbformat_minor": 0,
  "metadata": {
    "colab": {
      "name": "Start!_chap5.ipynb",
      "provenance": [],
      "private_outputs": true,
      "collapsed_sections": [],
      "toc_visible": true,
      "mount_file_id": "1KuMZramnkz5gGY1HpD2C7qpXt892GWLS",
      "authorship_tag": "ABX9TyNnEUzjuUuyKxhEjTC8nHpu",
      "include_colab_link": true
    },
    "kernelspec": {
      "name": "python3",
      "display_name": "Python 3"
    }
  },
  "cells": [
    {
      "cell_type": "markdown",
      "metadata": {
        "id": "view-in-github",
        "colab_type": "text"
      },
      "source": [
        "<a href=\"https://colab.research.google.com/github/Johyeonje/DeepLearningStudy/blob/master/Start!_chap5.ipynb\" target=\"_parent\"><img src=\"https://colab.research.google.com/assets/colab-badge.svg\" alt=\"Open In Colab\"/></a>"
      ]
    },
    {
      "cell_type": "code",
      "metadata": {
        "id": "onpWylMwZj6q",
        "colab_type": "code",
        "colab": {}
      },
      "source": [
        "from IPython.display import Image"
      ],
      "execution_count": null,
      "outputs": []
    },
    {
      "cell_type": "markdown",
      "metadata": {
        "id": "ABkDQeIsn7LU",
        "colab_type": "text"
      },
      "source": [
        "#분류"
      ]
    },
    {
      "cell_type": "markdown",
      "metadata": {
        "id": "pzr9TnGpoAsU",
        "colab_type": "text"
      },
      "source": [
        "##이항분류"
      ]
    },
    {
      "cell_type": "markdown",
      "metadata": {
        "id": "WEjXI1tboDVV",
        "colab_type": "text"
      },
      "source": [
        "###화이트 와인과 레드 와인의 분류"
      ]
    },
    {
      "cell_type": "markdown",
      "metadata": {
        "id": "29B1ACUdou1_",
        "colab_type": "text"
      },
      "source": [
        "와인 데이터 셋 불러오기"
      ]
    },
    {
      "cell_type": "code",
      "metadata": {
        "id": "pVuh1jJxoL6k",
        "colab_type": "code",
        "colab": {}
      },
      "source": [
        "import pandas as pd\n",
        "red = pd.read_csv('http://archive.ics.uci.edu/ml/machine-learning-databases/wine-quality/winequality-red.csv', sep=';')\n",
        "white = pd.read_csv('http://archive.ics.uci.edu/ml/machine-learning-databases/wine-quality/winequality-white.csv', sep=';')\n",
        "print(red.head())\n",
        "print(white.head())"
      ],
      "execution_count": null,
      "outputs": []
    },
    {
      "cell_type": "markdown",
      "metadata": {
        "id": "xrGZjJbppcXm",
        "colab_type": "text"
      },
      "source": [
        "12개의 속성을 가지고 화이트와인인지 레드와인인지 구별하는 작업이다.    \n",
        "먼저 레드와인과 화이트와인인지 구별하는 속성을 추가해준다."
      ]
    },
    {
      "cell_type": "code",
      "metadata": {
        "id": "k_8VrpRuomCt",
        "colab_type": "code",
        "colab": {}
      },
      "source": [
        "red['type'] = 0\n",
        "white['type'] = 1\n",
        "print(red.head(2))\n",
        "print(white.head(2))\n",
        "\n",
        "wine = pd.concat([red, white])\n",
        "print(wine.describe())"
      ],
      "execution_count": null,
      "outputs": []
    },
    {
      "cell_type": "markdown",
      "metadata": {
        "id": "SqUcgnk8p1yl",
        "colab_type": "text"
      },
      "source": [
        "#####describe()\n",
        "데이터의 간단한 통계정보를 확인하는 함수 describe()를 사용하면 평균값인 mean이    \n",
        " 0.75인걸 확인할 수 있는데 화이트와인을 뜻하는 1이 더 많다는 걸 알 수 있다.    \n",
        " 아래는 간단한 그래프를 그려본 것이다."
      ]
    },
    {
      "cell_type": "code",
      "metadata": {
        "id": "WEnh9tpgqhX9",
        "colab_type": "code",
        "colab": {}
      },
      "source": [
        "import matplotlib.pyplot as plt\n",
        "plt.hist(wine['type'])\n",
        "plt.xticks([0,1])\n",
        "plt.show()\n",
        "\n",
        "print(wine['type'].value_counts())"
      ],
      "execution_count": null,
      "outputs": []
    },
    {
      "cell_type": "markdown",
      "metadata": {
        "id": "3J25oMqn0avl",
        "colab_type": "text"
      },
      "source": [
        "#####xticks\n",
        ": 눈금"
      ]
    },
    {
      "cell_type": "markdown",
      "metadata": {
        "id": "GFT_QTNFq000",
        "colab_type": "text"
      },
      "source": [
        "#####info()\n",
        "외부 데이터의 경우 구성을 알기 어려운데 이 때 사용하는 함수가 info()"
      ]
    },
    {
      "cell_type": "code",
      "metadata": {
        "id": "jPuiZgoSrEi_",
        "colab_type": "code",
        "colab": {}
      },
      "source": [
        "print(wine.info())"
      ],
      "execution_count": null,
      "outputs": []
    },
    {
      "cell_type": "markdown",
      "metadata": {
        "id": "Nr3sfrl8uOBS",
        "colab_type": "text"
      },
      "source": [
        "####수치들의 정규화"
      ]
    },
    {
      "cell_type": "markdown",
      "metadata": {
        "id": "0EXaH8iz1CSr",
        "colab_type": "text"
      },
      "source": [
        "각 속성들이 저장된 자료의 단위가 다 다르기 때문에 속성별로 고르게 가중치에 영향을 주게 하기 위해서 정규화를 한다."
      ]
    },
    {
      "cell_type": "code",
      "metadata": {
        "id": "qNeUM0OWrHKm",
        "colab_type": "code",
        "colab": {}
      },
      "source": [
        "wine_norm = (wine - wine.min()) / (wine.max() - wine.min())\n",
        "print(wine_norm.head())\n",
        "print(wine_norm.describe())"
      ],
      "execution_count": null,
      "outputs": []
    },
    {
      "cell_type": "markdown",
      "metadata": {
        "id": "_00GkZgOuX__",
        "colab_type": "text"
      },
      "source": [
        "####셔플 후 np.array"
      ]
    },
    {
      "cell_type": "code",
      "metadata": {
        "id": "sxH_DvkYuwlj",
        "colab_type": "code",
        "colab": {}
      },
      "source": [
        "import numpy as np\n",
        "wine_shuffle = wine_norm.sample(frac=1)\n",
        "print(wine_shuffle.head())\n",
        "wine_np = wine_shuffle.to_numpy()\n",
        "print(wine_np[:5])"
      ],
      "execution_count": null,
      "outputs": []
    },
    {
      "cell_type": "markdown",
      "metadata": {
        "id": "4SZEUCC7u9Dq",
        "colab_type": "text"
      },
      "source": [
        "####훈련과 검증 데이터의 분리"
      ]
    },
    {
      "cell_type": "markdown",
      "metadata": {
        "id": "78jB4ozayzya",
        "colab_type": "text"
      },
      "source": [
        "to_categorical : 분류 문제에 자주 쓰이는 함수로 정답 행렬을 원-핫 인코딩 방식으로 바꿈    \n",
        "원-핫 인코딩(One-Hot Encoding) : 정답 인덱스에만 1 나머지는 다 0    \n",
        "num_classes : 정답 클래스의 갯수\n"
      ]
    },
    {
      "cell_type": "code",
      "metadata": {
        "id": "Nxny7hLjvKP1",
        "colab_type": "code",
        "colab": {}
      },
      "source": [
        "import tensorflow as tf\n",
        "train_idx = int(len(wine_np)*0.8)\n",
        "train_X, train_Y = wine_np[:train_idx, :-1], wine_np[:train_idx, -1]\n",
        "test_X, test_Y = wine_np[train_idx:, :-1], wine_np[train_idx:, -1]\n",
        "print(train_X[0])\n",
        "print(train_Y[0])\n",
        "print(test_X[0])\n",
        "print(test_Y[0])\n",
        "train_Y = tf.keras.utils.to_categorical(train_Y, \n",
        "                                        num_classes=2)\n",
        "test_Y = tf.keras.utils.to_categorical(test_Y, num_classes=2)\n",
        "print(train_Y[0])\n",
        "print(test_Y[0])"
      ],
      "execution_count": null,
      "outputs": []
    },
    {
      "cell_type": "markdown",
      "metadata": {
        "id": "QbHjFfTz0i3i",
        "colab_type": "text"
      },
      "source": [
        "####모델 구성"
      ]
    },
    {
      "cell_type": "code",
      "metadata": {
        "id": "uUovPEyqvZSD",
        "colab_type": "code",
        "colab": {}
      },
      "source": [
        "import tensorflow as tf\n",
        "model = tf.keras.Sequential([\n",
        "            tf.keras.layers.Dense(units=48, activation='relu', input_shape=(12,)),\n",
        "            tf.keras.layers.Dense(units=24, activation='relu'),\n",
        "            tf.keras.layers.Dense(units=2, activation='softmax')\n",
        "])\n",
        "\n",
        "model.compile(optimizer=tf.keras.optimizers.Adam(lr=0.07), loss='categorical_crossentropy',\n",
        "              metrics=['accuracy'])\n",
        "\n",
        "model.summary()"
      ],
      "execution_count": null,
      "outputs": []
    },
    {
      "cell_type": "markdown",
      "metadata": {
        "id": "XEcNqv3V0fO4",
        "colab_type": "text"
      },
      "source": [
        "####softmax 활성함수\n",
        "\n"
      ]
    },
    {
      "cell_type": "markdown",
      "metadata": {
        "id": "h7w2QId60PdO",
        "colab_type": "text"
      },
      "source": [
        "분류에서 가장 만이 쓰이는 함수로 출력 값들을 자연 로그의 및인 $e$의 지수로 사용해 계산한 뒤 모두 더한 값으로 나눈다.    \n",
        "이렇게 나온 결괏값들은 총합이 1인 확률값이 된다.    \n",
        "$P(z) = \\frac{e^{z_j}}{\\sum^K_{k=1}e^{zk}}(for　i =  1,2,...,K)$"
      ]
    },
    {
      "cell_type": "markdown",
      "metadata": {
        "id": "zT6O4bRENJlX",
        "colab_type": "text"
      },
      "source": [
        "예를 들어, [2, 1, 0]이라는 값이 있을 경우 소프트맥스로 변환한다면    \n",
        "$sum = \\sum^K_{k=1}e^{z_k}=e^2 + e^1 + e^0=11.1073$    \n",
        "        \n",
        "$sum = \\frac{e^{z_j}}{\\sum^K_{k=1}e^{z_k}} = [\\frac{e^2}{sum},\\frac{e^1}{sum},\\frac{e^0}{sum}] = [0.67, 0.24, 0.09]$    \n",
        "다음과 같은 확률값이 된다."
      ]
    },
    {
      "cell_type": "code",
      "metadata": {
        "id": "Ep-ayJ6Ub-O7",
        "colab_type": "code",
        "colab": {}
      },
      "source": [
        "Image('/content/drive/My Drive/DeepLearning/Start!_Tensorflow/images/pic5_5.png', width=500)"
      ],
      "execution_count": null,
      "outputs": []
    },
    {
      "cell_type": "markdown",
      "metadata": {
        "id": "trV-bYNXcX7Q",
        "colab_type": "text"
      },
      "source": [
        "소프트맥스는 분류 문제나 언어 RNN에서의 다음 토큰 예측, 강화학습에서 에이전트의 행동 확률을 구하는 등 결괏값으로 확률이 필요한 다양한 분야에서 쓰인다. 여기서는 예측값이 레드 와인일 확률과 화이트 와인일 확률을 구하는데 쓰인다. 위 분류 네트워크의 결괏값은 [0.97, 0.03]처럼 합이 1.0인 확률값이 된다."
      ]
    },
    {
      "cell_type": "markdown",
      "metadata": {
        "id": "4W9aQilkScsV",
        "colab_type": "text"
      },
      "source": [
        "####엔트로피(entropy)와 정보이론\n",
        "정보이론에서는 정보량을 나타내기 위해 엔트로피라는 단위를 사용한다. 엔트로피는 확률의 역수에 로그를 취한 값이다. 어떤 사건 X의 확률이 $p(x)$, 엔트로피를 $h(x)$라고 할 때, 엔트로피의 식은 아래와 같다.    \n",
        "    \n",
        "$h(x)=log\\frac{1}{p(x)}=-logp(x)$    \n",
        "    \n",
        "확률을 역수로 취해주는 것은 확률이 높은 사건일수록 정보량(놀라움)이 적다고 판단하기 때문이다. 내일 비가 올 확률이 1%일 때 비가 오지 않을 확률은 99%일 것이다. 이때 각 사건의 정보량은 다음과 같다.    \n",
        "    \n",
        "$h(비)=-log0.01=4.605$    \n",
        "$h(비가오지않음)=-log0.99=0.010$    \n",
        "    \n",
        "비가 오지 않는 경우는 비가 오는 경우보다 460배 정도 더 놀라운 사건이 된다.    \n",
        "엔트로피의 기댓값은 각 엔트로피에 확률을 곱해준 값이다. 통계에서 기댓값의 정의는 각 사건이 벌어졌을 때의 이득과 그 사건이 벌어질 확률을 곱한 값이기 때문이다. 이를 수식으로 나타내면 아래와 같다.    \n",
        "    \n",
        "$E(X)=-p(x)logp(x)$    \n",
        "    \n",
        "위의 비 사건의 엔트로피를 계산하면 0.0461, 비가 안오는 사건의 엔트로피는 0.0099로 비가 오는 사건의 엔트로피가 높은 것을 확인할 수 있다. 이 경우 엔트로피의 양만큼 비가 올 확률에 대한 예측값을 조정해서, 결과적으로 다음에 얻을 엔트로피를 낮추려고 노력한다.    \n",
        "`높은 엔트로피는 높은 불확실성을 의미하기 때문에 엔트로피를 줄이면 불확실성이 낮아지고 의미있는 정보를 얻을 수 있다.`\n"
      ]
    },
    {
      "cell_type": "markdown",
      "metadata": {
        "id": "9Cnph5ldWyMz",
        "colab_type": "text"
      },
      "source": [
        "손실 함수인 loss에 자주 쓰이던 mse 대신 categorical_crossentropy라는 낮선 값이 들어왔다. categorical은 범주에 쓰이는 분류라는 뜻이다. 크로스 엔트로피(crossentropy)는 엔트로피의 기댓값과 비슷하지만 약간 다른 점이 있다."
      ]
    },
    {
      "cell_type": "markdown",
      "metadata": {
        "id": "g5S0woI3YBLh",
        "colab_type": "text"
      },
      "source": [
        "확률 부분에 $p(x)$를 곱하는 것과 달리 로그 뒤에는 $q(x)$를 곱한다. 여기서 $q(x)$란 분류 네트워크가 예측한 라벨의 확률 값이다."
      ]
    },
    {
      "cell_type": "code",
      "metadata": {
        "id": "pHHGLDrHYAR4",
        "colab_type": "code",
        "colab": {}
      },
      "source": [
        "Image('/content/drive/My Drive/DeepLearning/Start!_Tensorflow/images/crossentropy.png', width=600)"
      ],
      "execution_count": null,
      "outputs": []
    },
    {
      "cell_type": "markdown",
      "metadata": {
        "id": "WjKGU_XHZyiG",
        "colab_type": "text"
      },
      "source": [
        "그림 5.6에서 볼 수 있듯이 분류 문제에서 $p(x)$와 $q(x)$에 해당하는 범주의 종류는 2개 이상이다. 이에 대한 해결책은 `모든 범주에 대한 평균을 내는 것`이다. 범주의 수를 n이라고 할 때 범주에 대한 크로스엔트로피(Categorical Cross Entropy, CCE)의 식은 아래와 같다."
      ]
    },
    {
      "cell_type": "markdown",
      "metadata": {
        "id": "hRgMDpjQaJVq",
        "colab_type": "text"
      },
      "source": [
        "$CCE=-\\frac{1}{n}\\sum^n_{j=1}p(x)logq(x)$"
      ]
    },
    {
      "cell_type": "markdown",
      "metadata": {
        "id": "nazooEnDaaSA",
        "colab_type": "text"
      },
      "source": [
        "이 식에 따라 계산해보면 그림 5.5의 CCE는 다음과 같다."
      ]
    },
    {
      "cell_type": "markdown",
      "metadata": {
        "id": "mLEaEHQ_f9LO",
        "colab_type": "text"
      },
      "source": [
        "$CCE_1=-\\frac{1}{2}(1.0*log0.87+0.0*log0.131)=0.696$"
      ]
    },
    {
      "cell_type": "markdown",
      "metadata": {
        "id": "mCsmdYYVgOzv",
        "colab_type": "text"
      },
      "source": [
        "이 값만 보면 CCE가 높은것인지 낮은 것인지 가늠하기 힘들다. 비교를 하기 위해 다른 경우를 가정해 보겠다.    \n",
        "정답이 화이트 와인일 때 레드 와인일 확률을 0.6, 화이트 와인일 확률을 0.4로 예측하는 경우가 있다면 정답보다 오답에 가깝게 예측하기 때문에 그림 5.5보다 예측을 못하는 경우라고 생각해볼 수 있다. 실제로 그러한지 계산해보자."
      ]
    },
    {
      "cell_type": "markdown",
      "metadata": {
        "id": "ATo69F6xk8kG",
        "colab_type": "text"
      },
      "source": [
        "$CCE_2=-\\frac{1}{2}(0.0*log0.6+1.0*log0.4)=0.4581$"
      ]
    },
    {
      "cell_type": "markdown",
      "metadata": {
        "id": "_ysZb0pgk9FR",
        "colab_type": "text"
      },
      "source": [
        "두 번째 경우의 CCE 수치는 0.4581로, 그림 5.5의 0.0696보다 6.5배 정도 높아졌다. CCE도 손실의 일종이기 때문에 낮을수록 좋은 값이고 네트워크는 손실을 낮추기 위해서 노력한다. 따라서 CCE가 낮을 수록 예측을 잘하는 네트워크가 된다."
      ]
    },
    {
      "cell_type": "markdown",
      "metadata": {
        "id": "fyhblo9clTdd",
        "colab_type": "text"
      },
      "source": [
        "또 한 가지 알아야 할 점은 정답 라벨은 늘 1.0이고 오답 라벨은 언제나 0.0이기 때문에 오답 라벨에 곱해지는 값은 버려진다는 점이다. 위 식들은 아래처럼 정답 라벨에 관한 예측만 남겨도 값이 달라지지 않는다."
      ]
    },
    {
      "cell_type": "markdown",
      "metadata": {
        "id": "cBpWoD2jlpE4",
        "colab_type": "text"
      },
      "source": [
        "$CCE_1=-\\frac{1}{2}(1.0*log0.87)=0.696$"
      ]
    },
    {
      "cell_type": "markdown",
      "metadata": {
        "id": "47oxTJuxl2oq",
        "colab_type": "text"
      },
      "source": [
        "$CCE_2=-\\frac{1}{2}(1.0*log0.4)=0.4581$"
      ]
    },
    {
      "cell_type": "markdown",
      "metadata": {
        "id": "eT4AmL3lmFlT",
        "colab_type": "text"
      },
      "source": [
        "그리고 model.copile 함수의 metrics 인수에 정확도(accuracy)가 추가됐다. 분류 문제는 정확도로 퍼포먼스를 측정하기 때문에 정확도를 설정하는 것은 필수이다."
      ]
    },
    {
      "cell_type": "code",
      "metadata": {
        "id": "4Z1qkobQmSoa",
        "colab_type": "code",
        "colab": {}
      },
      "source": [
        "history = model.fit(train_X, train_Y, epochs=25, batch_size=32, validation_split=0.25)"
      ],
      "execution_count": null,
      "outputs": []
    },
    {
      "cell_type": "markdown",
      "metadata": {
        "id": "_LW8RGWr56zG",
        "colab_type": "text"
      },
      "source": [
        "#####batch_size, epoch\n",
        "batch_size는 보편적으로 32로 한다.\n",
        "epoch는 데이터셋 전체를 한번 학습했을때 1이다."
      ]
    },
    {
      "cell_type": "code",
      "metadata": {
        "id": "uXk3m8ZRmaCh",
        "colab_type": "code",
        "colab": {}
      },
      "source": [
        "import matplotlib.pyplot as plt\n",
        "plt.figure(figsize=(12,4))\n",
        "\n",
        "plt.subplot(1,2,1)\n",
        "plt.plot(history.history['loss'], 'b-', label='loss')\n",
        "plt.plot(history.history['val_loss'], 'r--', label='val_loss')\n",
        "plt.xlabel('Epoch')\n",
        "plt.legend()\n",
        "\n",
        "plt.subplot(1,2,2)\n",
        "plt.plot(history.history['accuracy'], 'g-', label='accuracy')\n",
        "plt.plot(history.history['val_accuracy'], 'k--', label='val_accuracy')\n",
        "plt.xlabel('Epoch')\n",
        "plt.ylim(0.7, 1)\n",
        "plt.legend()\n",
        "\n",
        "plt.show()\n"
      ],
      "execution_count": null,
      "outputs": []
    },
    {
      "cell_type": "code",
      "metadata": {
        "id": "1_9wzYFInaO9",
        "colab_type": "code",
        "colab": {}
      },
      "source": [
        "model.evaluate(test_X, test_Y)"
      ],
      "execution_count": null,
      "outputs": []
    },
    {
      "cell_type": "code",
      "metadata": {
        "id": "QRk28t6QoJrF",
        "colab_type": "code",
        "colab": {}
      },
      "source": [
        ""
      ],
      "execution_count": null,
      "outputs": []
    },
    {
      "cell_type": "markdown",
      "metadata": {
        "id": "2plaBGPgnims",
        "colab_type": "text"
      },
      "source": [
        "##다항 분류"
      ]
    },
    {
      "cell_type": "markdown",
      "metadata": {
        "id": "8lgSN0COnoVh",
        "colab_type": "text"
      },
      "source": [
        " : 범주가 2개를 초과하는 경우이다.    \n",
        " 와인 데이터 세트에 와인의 품질은 0에서 10까지 숫자이기 때문에 다항 분류의 범수에 속한다. 와인의 품질을 예측해보자.    \n",
        " 일단 품질 데이터가 어떤 비율로 구성되는지 알아보자.\n"
      ]
    },
    {
      "cell_type": "code",
      "metadata": {
        "id": "J-sz-D8zoC5D",
        "colab_type": "code",
        "colab": {}
      },
      "source": [
        "print(wine['quality'].describe())\n",
        "print(wine['quality'].value_counts())"
      ],
      "execution_count": null,
      "outputs": []
    },
    {
      "cell_type": "code",
      "metadata": {
        "id": "_hV-xjn7oO0O",
        "colab_type": "code",
        "colab": {}
      },
      "source": [
        "import matplotlib.pyplot as plt\n",
        "plt.hist(wine['quality'], bins=7, rwidth=0.8)\n",
        "plt.show()"
      ],
      "execution_count": null,
      "outputs": []
    },
    {
      "cell_type": "markdown",
      "metadata": {
        "id": "Cpp-WkN0od9O",
        "colab_type": "text"
      },
      "source": [
        "그래프 처럼 데이터간의 분포 차이가 크기 때문에 3~5를 나쁨, 6을 보통, 7~9를 좋음으로 재분류 하도록 한다."
      ]
    },
    {
      "cell_type": "code",
      "metadata": {
        "id": "nLYKra3ioulk",
        "colab_type": "code",
        "colab": {}
      },
      "source": [
        "wine.loc[wine['quality']<=5, 'new_quality'] = 0\n",
        "wine.loc[wine['quality']==6, 'new_quality'] = 1\n",
        "wine.loc[wine['quality']>=7, 'new_quality'] = 2\n",
        "print(wine['new_quality'].describe())\n",
        "print(wine['new_quality'].value_counts())"
      ],
      "execution_count": null,
      "outputs": []
    },
    {
      "cell_type": "markdown",
      "metadata": {
        "id": "YBDFCd3Yo-eo",
        "colab_type": "text"
      },
      "source": [
        "#####loc \n",
        ": 데이터프레임에 특정한 인덱스를 골라내는 역할.    \n",
        "대괄호 안에 인수를 하나만 넣으면 행을 골라내고, 쉼표를 포함한 두개의 인수를 넣으면 차례대로 행, 열을 골라낸다."
      ]
    },
    {
      "cell_type": "code",
      "metadata": {
        "id": "GsC8i0FwpWOq",
        "colab_type": "code",
        "colab": {}
      },
      "source": [
        "data = [['Apple',11],['Banana;,23'],['Coconut',35]]\n",
        "df = pd.DataFrame(data, columns=['Fruit', 'Count'])\n",
        "print(df)\n",
        "print()\n",
        "print(df.loc[0])    #첫 번째 행 선택\n",
        "print()\n",
        "print(df.loc[0,'Fruit'])    #첫 번째 행의 Fruit 열을 선택"
      ],
      "execution_count": null,
      "outputs": []
    },
    {
      "cell_type": "markdown",
      "metadata": {
        "id": "y60D4Madpz0B",
        "colab_type": "text"
      },
      "source": [
        "데이터 정규화 및 훈련 데이터와 테스트 데이터의 분리"
      ]
    },
    {
      "cell_type": "code",
      "metadata": {
        "id": "fq4_ZPbdqeQs",
        "colab_type": "code",
        "colab": {}
      },
      "source": [
        "del wine['quality']\n",
        "wine_norm = (wine-wine.min()) / (wine.max() - wine.min())\n",
        "wine_shuffle = wine_norm.sample(frac=1)\n",
        "wine_np = wine_shuffle.to_numpy()\n",
        "\n",
        "train_idx = int(len(wine_np) * 0.8)\n",
        "train_X, train_Y = wine_np[:train_idx, :-1], wine_np[:train_idx, -1]\n",
        "test_X, test_Y = wine_np[train_idx:, :-1], wine_np[train_idx:, -1]\n",
        "train_Y = tf.keras.utils.to_categorical(train_Y, num_classes=3)\n",
        "test_Y = tf.keras.utils.to_categorical(test_Y, num_classes=3)"
      ],
      "execution_count": null,
      "outputs": []
    },
    {
      "cell_type": "markdown",
      "metadata": {
        "id": "DrUJDvIhrtcV",
        "colab_type": "text"
      },
      "source": [
        "예측하고자 하는 new_quality가 quality로 부터 만들어진 것이기 때문에 quality를 테이블에서 삭제한 뒤 남은 데이터를 가지고 예측을 진행한다."
      ]
    },
    {
      "cell_type": "code",
      "metadata": {
        "id": "5uk808Syrmdo",
        "colab_type": "code",
        "colab": {}
      },
      "source": [
        "model = tf.keras.Sequential([\n",
        "              tf.keras.layers.Dense(units=48, activation='relu', input_shape=(12,)),\n",
        "              tf.keras.layers.Dense(units=24, activation='relu'),\n",
        "              tf.keras.layers.Dense(units=12, activation='relu'),\n",
        "              tf.keras.layers.Dense(units=3, activation='softmax')\n",
        "])\n",
        "\n",
        "model.compile(optimizer=tf.keras.optimizers.Adam(lr=0.03), loss='categorical_crossentropy',\n",
        "              metrics=['accuracy'])\n",
        "\n",
        "history = model.fit(train_X, train_Y, epochs=25, batch_size=32, validation_split=0.25)"
      ],
      "execution_count": null,
      "outputs": []
    },
    {
      "cell_type": "code",
      "metadata": {
        "id": "EwTJmhu3s0Dp",
        "colab_type": "code",
        "colab": {}
      },
      "source": [
        "import matplotlib.pyplot as plt\n",
        "plt.figure(figsize=(12,4))\n",
        "\n",
        "plt.subplot(1,2,1)\n",
        "plt.plot(history.history['loss'], 'b-', label='loss')\n",
        "plt.plot(history.history['val_loss'], 'r--', label='val_loss')\n",
        "plt.xlabel('Epoch')\n",
        "plt.legend()\n",
        "\n",
        "plt.subplot(1,2,2)\n",
        "plt.plot(history.history['accuracy'], 'g-', label='accuracy')\n",
        "plt.plot(history.history['val_accuracy'], 'k--', label='val_accuracy')\n",
        "plt.xlabel('Epoch')\n",
        "plt.ylim(0.7, 1)\n",
        "plt.legend()\n",
        "\n",
        "plt.show()\n"
      ],
      "execution_count": null,
      "outputs": []
    },
    {
      "cell_type": "code",
      "metadata": {
        "id": "DFXK2ZOHtmUi",
        "colab_type": "code",
        "colab": {}
      },
      "source": [
        "model.evaluate(test_X, test_Y)"
      ],
      "execution_count": null,
      "outputs": []
    },
    {
      "cell_type": "markdown",
      "metadata": {
        "id": "0bdTHyTFtqnc",
        "colab_type": "text"
      },
      "source": [
        "##Fashion MNIST"
      ]
    },
    {
      "cell_type": "markdown",
      "metadata": {
        "id": "WvRAQekPtyVT",
        "colab_type": "text"
      },
      "source": [
        "MNIST : 손으로 쓴 숫자 글씨를 모아놓은 데이터 세트이다.    \n",
        "Fashion MNIST : 손글씨와 유사하지만 의류에 대한 데이터 세트이다."
      ]
    },
    {
      "cell_type": "code",
      "metadata": {
        "id": "JGwZB-fTuN-n",
        "colab_type": "code",
        "colab": {}
      },
      "source": [
        "fashion_mnist = tf.keras.datasets.fashion_mnist\n",
        "(train_X, train_Y), (test_X, test_Y) = fashion_mnist.load_data()\n",
        "\n",
        "print(len(train_X), len(test_X))"
      ],
      "execution_count": null,
      "outputs": []
    },
    {
      "cell_type": "code",
      "metadata": {
        "id": "gNcuNPAkuU4J",
        "colab_type": "code",
        "colab": {}
      },
      "source": [
        "import matplotlib.pyplot as plt\n",
        "plt.imshow(train_X[0], cmap='gray')\n",
        "plt.colorbar()\n",
        "plt.show()\n",
        "\n",
        "print(train_Y[0])"
      ],
      "execution_count": null,
      "outputs": []
    },
    {
      "cell_type": "code",
      "metadata": {
        "id": "8NlnUryuu0uI",
        "colab_type": "code",
        "colab": {}
      },
      "source": [
        "train_X = train_X / 255.0\n",
        "test_X = test_X / 255.0\n",
        "\n",
        "print(train_X[0])"
      ],
      "execution_count": null,
      "outputs": []
    },
    {
      "cell_type": "code",
      "metadata": {
        "id": "0_TjR4MkvHVM",
        "colab_type": "code",
        "colab": {}
      },
      "source": [
        "model = tf.keras.Sequential([\n",
        "                    tf.keras.layers.Flatten(input_shape=(28,28)),\n",
        "                    tf.keras.layers.Dense(units=128, activation='relu'),\n",
        "                    tf.keras.layers.Dense(units=10, activation='softmax')\n",
        "])\n",
        "\n",
        "model.compile(optimizer=tf.keras.optimizers.Adam(),\n",
        "              loss='sparse_categorical_crossentropy',\n",
        "              metrics=['accuracy'])\n",
        "\n",
        "model.summary()"
      ],
      "execution_count": null,
      "outputs": []
    },
    {
      "cell_type": "markdown",
      "metadata": {
        "id": "EkjdUmcG8C4q",
        "colab_type": "text"
      },
      "source": [
        "sparse_categorical_crossentropy : 출력층이 여러층이 되면 모든 층을 표현하는게 원핫인코딩을 쓰기에 너무 메모리가 낭비되기 때문에 index로 표시하겠다.    \n",
        "ex) [0,0,0,0,1] = 4 로 표기"
      ]
    },
    {
      "cell_type": "code",
      "metadata": {
        "id": "xq9Jcc4XweuB",
        "colab_type": "code",
        "colab": {}
      },
      "source": [
        "history = model.fit(train_X, train_Y, epochs=25, validation_split=0.25)"
      ],
      "execution_count": null,
      "outputs": []
    },
    {
      "cell_type": "code",
      "metadata": {
        "id": "Ljf4K6otwqbd",
        "colab_type": "code",
        "colab": {}
      },
      "source": [
        "import matplotlib.pyplot as plt\n",
        "plt.figure(figsize=(12,4))\n",
        "\n",
        "plt.subplot(1,2,1)\n",
        "plt.plot(history.history['loss'], 'b-', label='loss')\n",
        "plt.plot(history.history['val_loss'], 'r--', label='val_loss')\n",
        "plt.xlabel('Epoch')\n",
        "plt.legend()\n",
        "\n",
        "plt.subplot(1,2,2)\n",
        "plt.plot(history.history['accuracy'], 'g-', label='accuracy')\n",
        "plt.plot(history.history['val_accuracy'], 'k--', label='val_accuracy')\n",
        "plt.xlabel('Epoch')\n",
        "plt.ylim(0.7, 1)\n",
        "plt.legend()\n",
        "\n",
        "plt.show()\n"
      ],
      "execution_count": null,
      "outputs": []
    },
    {
      "cell_type": "code",
      "metadata": {
        "id": "LVNzRLN4wzNd",
        "colab_type": "code",
        "colab": {}
      },
      "source": [
        "model.evaluate(test_X, test_Y)"
      ],
      "execution_count": null,
      "outputs": []
    },
    {
      "cell_type": "code",
      "metadata": {
        "id": "uJ2GjV4WxpuI",
        "colab_type": "code",
        "colab": {}
      },
      "source": [
        ""
      ],
      "execution_count": null,
      "outputs": []
    }
  ]
}