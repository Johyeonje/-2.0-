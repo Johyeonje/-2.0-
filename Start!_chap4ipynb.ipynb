{
  "nbformat": 4,
  "nbformat_minor": 0,
  "metadata": {
    "colab": {
      "name": "Start!_chap4ipynb",
      "provenance": [],
      "collapsed_sections": [],
      "toc_visible": true,
      "authorship_tag": "ABX9TyPbpfWfxfBaVA8c4k8rkiKp",
      "include_colab_link": true
    },
    "kernelspec": {
      "name": "python3",
      "display_name": "Python 3"
    }
  },
  "cells": [
    {
      "cell_type": "markdown",
      "metadata": {
        "id": "view-in-github",
        "colab_type": "text"
      },
      "source": [
        "<a href=\"https://colab.research.google.com/github/Johyeonje/DeepLearningStudy/blob/master/Start!_chap4ipynb.ipynb\" target=\"_parent\"><img src=\"https://colab.research.google.com/assets/colab-badge.svg\" alt=\"Open In Colab\"/></a>"
      ]
    },
    {
      "cell_type": "markdown",
      "metadata": {
        "id": "mbTuV7-ZL0P1",
        "colab_type": "text"
      },
      "source": [
        "#회귀"
      ]
    },
    {
      "cell_type": "markdown",
      "metadata": {
        "id": "9nf9glLIL9tH",
        "colab_type": "text"
      },
      "source": [
        "##선형 회귀\n",
        ": 데이터의 경향성을 가장 잘 설명하는 하나의 직선을 예측하는 것"
      ]
    },
    {
      "cell_type": "markdown",
      "metadata": {
        "id": "hXw64chWMCUe",
        "colab_type": "text"
      },
      "source": [
        "###About 경향성 분석"
      ]
    },
    {
      "cell_type": "code",
      "metadata": {
        "id": "uLSPw93aMWGO",
        "colab_type": "code",
        "colab": {
          "base_uri": "https://localhost:8080/",
          "height": 279
        },
        "outputId": "37676cf0-d16d-41c4-e898-8243546e4504"
      },
      "source": [
        "import matplotlib.pyplot as plt\n",
        "population_inc = [0.3, -0.78, 1.26, 0.03, 1.11, 15.17, 0.24, -0.24, -0.47, 0.77, -0.37, -0.85, -0.41, -0.27, 0.02, -0.76, 2.66]\n",
        "population_old = [12.27,14.44,11.87,18.75,17.52,9.29,16.37,19.78,19.51,12.65,14.74,10.72,21.94,12.83,15.51,17.14,14.42]\n",
        "plt.plot(population_inc, population_old, 'bo')\n",
        "plt.xlabel('Population Growth Rate')\n",
        "plt.ylabel('Elderly Population Rate')\n",
        "plt.show()"
      ],
      "execution_count": null,
      "outputs": [
        {
          "output_type": "display_data",
          "data": {
            "image/png": "[encoded data removed]",
            "text/plain": [
              "<Figure size 432x288 with 1 Axes>"
            ]
          },
          "metadata": {
            "tags": [],
            "needs_background": "light"
          }
        }
      ]
    },
    {
      "cell_type": "markdown",
      "metadata": {
        "id": "bCobpdw_Nqiw",
        "colab_type": "text"
      },
      "source": [
        "위 그래프에서 보이는 것처럼 일반적인 경향을 벗어나는 데이터는 제거하는게 좋음."
      ]
    },
    {
      "cell_type": "code",
      "metadata": {
        "id": "SfA_WHe8NfTU",
        "colab_type": "code",
        "colab": {
          "base_uri": "https://localhost:8080/",
          "height": 279
        },
        "outputId": "3b57f706-97f5-476b-8001-cc43e59d4671"
      },
      "source": [
        "import matplotlib.pyplot as plt\n",
        "population_inc = [0.3, -0.78, 1.26, 0.03, 1.11, 15.17, 0.24, -0.24, -0.47, 0.77, -0.37, -0.85, -0.41, -0.27, 0.02, -0.76, 2.66]\n",
        "population_inc = population_inc[:5] + population_inc[6:]\n",
        "population_old = [12.27,14.44,11.87,18.75,17.52,9.29,16.37,19.78,19.51,12.65,14.74,10.72,21.94,12.83,15.51,17.14,14.42]\n",
        "population_old = population_old[:5] + population_old[6:]\n",
        "plt.plot(population_inc, population_old, 'bo')\n",
        "plt.xlabel('Population Growth Rate')\n",
        "plt.ylabel('Elderly Population Rate')\n",
        "plt.show()"
      ],
      "execution_count": null,
      "outputs": [
        {
          "output_type": "display_data",
          "data": {
            "image/png": "[encoded data removed]",
            "text/plain": [
              "<Figure size 432x288 with 1 Axes>"
            ]
          },
          "metadata": {
            "tags": [],
            "needs_background": "light"
          }
        }
      ]
    },
    {
      "cell_type": "markdown",
      "metadata": {
        "id": "5I7zmB6VOWlI",
        "colab_type": "text"
      },
      "source": [
        "잔차(residual) : 데이터의 경향성을 가장 잘 설명하는 하나의 직선과 각 데이터의 차이     \n",
        "최소 제곱법(Least Square Method) : 잔차의 제곱을 최소화하는 알고리즘     \n",
        "최소 제곱법으로 직선 y = ax + b 의 a(기울기)와 b(절편)을 구할 수 있다.    \n",
        "$a = \\frac{\\sum\\limits_{i=1}^n (y_{i}-\\bar{y})(x_{i}-\\bar{x})}{\\sum\\limits_{i=1}^n(x_{i}-\\bar{x})^2},   b = \\bar{y}-a\\bar{x}$     \n",
        "$x_{i}, y_{i}$는 각 데이터 값이고, $\\bar{x}, \\bar{y}$는 데이터의 평균이다."
      ]
    },
    {
      "cell_type": "code",
      "metadata": {
        "id": "-6RU5i3hOFTC",
        "colab_type": "code",
        "colab": {
          "base_uri": "https://localhost:8080/",
          "height": 297
        },
        "outputId": "6fa44b74-8385-4652-f6f2-ddba8e0b933d"
      },
      "source": [
        "import matplotlib.pyplot as plt\n",
        "import numpy as np\n",
        "X = [0.3, -0.78, 1.26, 0.03, 1.11, 15.17, 0.24, -0.24, -0.47, 0.77, -0.37, -0.85, -0.41, -0.27, 0.02, -0.76, 2.66]\n",
        "X = X[:5] + X[6:]\n",
        "Y = [12.27,14.44,11.87,18.75,17.52,9.29,16.37,19.78,19.51,12.65,14.74,10.72,21.94,12.83,15.51,17.14,14.42]\n",
        "Y = Y[:5] + Y[6:]\n",
        "\n",
        "#X와 Y의 평균\n",
        "x_bar = sum(X) / len(X)\n",
        "y_bar = sum(Y) / len(X)\n",
        "\n",
        "#최소제곱법으로 a,b를 구함\n",
        "a = sum([(y - y_bar) * (x - x_bar) for y, x in list(zip(Y, X))])\n",
        "a /=  sum([(x - x_bar) ** 2 for x in X])\n",
        "b = y_bar - a * x_bar\n",
        "print('a:', a, 'b:', b)\n",
        "\n",
        "#그래프를 그리기 위해 회귀선의 x, y 데이터를 구합니다.\n",
        "line_x = np.arange(min(X), max(X), 0.01)\n",
        "line_y = a * line_x + b\n",
        "\n",
        "#붉은색 실선으로 회귀선을 그립니다.\n",
        "plt.plot(line_x, line_y, '-r')\n",
        "\n",
        "plt.plot(X, Y, 'bo')\n",
        "plt.xlabel('Population Growth Rate (%)')\n",
        "plt.ylabel('Elderly Population Rate (%)')\n",
        "plt.show()"
      ],
      "execution_count": null,
      "outputs": [
        {
          "output_type": "stream",
          "text": [
            "a: -0.7225567176686014 b: 15.754907940473604\n"
          ],
          "name": "stdout"
        },
        {
          "output_type": "display_data",
          "data": {
            "image/png": "[encoded data removed]",
            "text/plain": [
              "<Figure size 432x288 with 1 Axes>"
            ]
          },
          "metadata": {
            "tags": [],
            "needs_background": "light"
          }
        }
      ]
    },
    {
      "cell_type": "markdown",
      "metadata": {
        "id": "PuMWRczjboir",
        "colab_type": "text"
      },
      "source": [
        "하지만 텐서플로를 사용하면 위와 같은 복잡한 수식 없이 회귀선을 구할 수 있다."
      ]
    },
    {
      "cell_type": "code",
      "metadata": {
        "id": "kGTIFIYDX6B5",
        "colab_type": "code",
        "colab": {
          "base_uri": "https://localhost:8080/",
          "height": 455
        },
        "outputId": "74a6efa5-93a6-4d61-affe-78f69272782f"
      },
      "source": [
        "import matplotlib.pyplot as plt\n",
        "import numpy as np\n",
        "import tensorflow as tf\n",
        "import random\n",
        "X = [0.3, -0.78, 1.26, 0.03, 1.11, 15.17, 0.24, -0.24, -0.47, 0.77, -0.37, -0.85, -0.41, -0.27, 0.02, -0.76, 2.66]\n",
        "X = X[:5] + X[6:]\n",
        "Y = [12.27,14.44,11.87,18.75,17.52,9.29,16.37,19.78,19.51,12.65,14.74,10.72,21.94,12.83,15.51,17.14,14.42]\n",
        "Y = Y[:5] + Y[6:]\n",
        "\n",
        "#a와 b를 랜덤한 값으로 초기화\n",
        "a = tf.Variable(random.random())\n",
        "b = tf.Variable(random.random())\n",
        "\n",
        "#잔차의 제곱의 평균을 반환하는 함수\n",
        "def compute_loss():\n",
        "  y_pred = a * X + b\n",
        "  loss = tf.reduce_mean((Y - y_pred) ** 2)\n",
        "  return loss\n",
        "\n",
        "optimizer = tf.optimizers.Adam(lr=0.07)\n",
        "for i in range(1000):\n",
        "  #잔차의 제곱의 평균을 최소화(minimize)\n",
        "  optimizer.minimize(compute_loss, var_list=[a,b])\n",
        "\n",
        "  if i % 100 == 99:\n",
        "    print(i, 'a:', a.numpy(), 'b:', b.numpy(), 'loss:', compute_loss().numpy())\n",
        "\n",
        "line_x = np.arange(min(X), max(X), 0.01)\n",
        "line_y = a * line_x + b\n",
        "\n",
        "#그래프를 드로우\n",
        "plt.plot(line_x, line_y, '-r')\n",
        "\n",
        "plt.plot(X, Y, 'bo')\n",
        "plt.xlabel('Population Growth Rate (%)')\n",
        "plt.ylabel('Elderly Population Rate (%)')\n",
        "plt.show()"
      ],
      "execution_count": null,
      "outputs": [
        {
          "output_type": "stream",
          "text": [
            "99 a: 0.7544854 b: 7.216108 loss: 80.64432\n",
            "199 a: -0.005767301 b: 11.617953 loss: 26.172523\n",
            "299 a: -0.4369472 b: 14.105766 loss: 12.119574\n",
            "399 a: -0.6302159 b: 15.221689 loss: 9.742054\n",
            "499 a: -0.6984598 b: 15.61576 loss: 9.483385\n",
            "599 a: -0.7175065 b: 15.725746 loss: 9.465311\n",
            "699 a: -0.7217147 b: 15.750047 loss: 9.464505\n",
            "799 a: -0.7224467 b: 15.754273 loss: 9.464482\n",
            "899 a: -0.72254527 b: 15.754845 loss: 9.464482\n",
            "999 a: -0.72255397 b: 15.754893 loss: 9.464481\n"
          ],
          "name": "stdout"
        },
        {
          "output_type": "display_data",
          "data": {
            "image/png": "[encoded data removed]",
            "text/plain": [
              "<Figure size 432x288 with 1 Axes>"
            ]
          },
          "metadata": {
            "tags": [],
            "needs_background": "light"
          }
        }
      ]
    },
    {
      "cell_type": "markdown",
      "metadata": {
        "id": "L8bB4m_cg8Sf",
        "colab_type": "text"
      },
      "source": [
        "\n",
        "```python\n",
        "optimizer = tf.optimizers.Adam(lr=0.07)\n",
        "```\n",
        "\n",
        "최적화 함수 중 가장 우수한 Adam 을 사용한다.     \n",
        "보편적으로 학습률을 뜻하는 learning late는 0.1 ~ 0.0001 사이의 값을 사용"
      ]
    },
    {
      "cell_type": "markdown",
      "metadata": {
        "id": "wMhOiETKc_zi",
        "colab_type": "text"
      },
      "source": [
        "```python\n",
        "for i in range(1000):\n",
        "  optimizer.minimize(compute_loss, var_list[a,b])\n",
        "```\n",
        "1000번의 학습 동안 optimizer.minimize() 함수를 실행     \n",
        "첫 번째 인수에는 최소화할 손실을 전달, 두 번째 인수에는 학습시킬 변수 리스트 전달"
      ]
    },
    {
      "cell_type": "markdown",
      "metadata": {
        "id": "A5yzlx_rjFD9",
        "colab_type": "text"
      },
      "source": [
        "##다항 회귀"
      ]
    },
    {
      "cell_type": "markdown",
      "metadata": {
        "id": "ntZCL56AjfJN",
        "colab_type": "text"
      },
      "source": [
        "다항회귀는 $x^2, x^3$ 과 같은 다항식을 이용한 회귀     \n",
        "즉, 회귀선이 직선 대신 2차, 3차 함수와 같은 곡선"
      ]
    },
    {
      "cell_type": "code",
      "metadata": {
        "id": "Llt_UJmHjQSf",
        "colab_type": "code",
        "colab": {
          "base_uri": "https://localhost:8080/",
          "height": 455
        },
        "outputId": "3c06d6eb-ac31-45e6-9020-52a1b435ea49"
      },
      "source": [
        "import matplotlib.pyplot as plt\n",
        "import numpy as np\n",
        "import tensorflow as tf\n",
        "import random\n",
        "X = [0.3, -0.78, 1.26, 0.03, 1.11, 0.24, -0.24, -0.47, 0.77, -0.37, -0.85, -0.41, -0.27, 0.02, -0.76, 2.66]\n",
        "Y = [12.27,14.44,11.87,18.75,17.52,16.37,19.78,19.51,12.65,14.74,10.72,21.94,12.83,15.51,17.14,14.42]\n",
        "\n",
        "#a와 b, c를 랜덤한 값으로 초기화\n",
        "a = tf.Variable(random.random())\n",
        "b = tf.Variable(random.random())\n",
        "c = tf.Variable(random.random())\n",
        "\n",
        "#잔차의 제곱의 평균을 반환하는 함수\n",
        "def compute_loss():\n",
        "  y_pred = a * X*X + b * X + c\n",
        "  loss = tf.reduce_mean((Y - y_pred) ** 2)\n",
        "  return loss\n",
        "\n",
        "optimizer = tf.optimizers.Adam(lr=0.07)\n",
        "for i in range(1000):\n",
        "  #잔차의 제곱의 평균을 최소화(minimize)\n",
        "  optimizer.minimize(compute_loss, var_list=[a,b,c])\n",
        "\n",
        "  if i % 100 == 99:\n",
        "    print(i, 'a:', a.numpy(), 'b:', b.numpy(), 'c:', c.numpy(), 'loss:', compute_loss().numpy())\n",
        "\n",
        "line_x = np.arange(min(X), max(X), 0.01)\n",
        "line_y = a * line_x*line_x + b * line_x + c\n",
        "\n",
        "#그래프를 드로우\n",
        "plt.plot(line_x, line_y, '-r')\n",
        "\n",
        "plt.plot(X, Y, 'bo')\n",
        "plt.xlabel('Population Growth Rate (%)')\n",
        "plt.ylabel('Elderly Population Rate (%)')\n",
        "plt.show()"
      ],
      "execution_count": null,
      "outputs": [
        {
          "output_type": "stream",
          "text": [
            "99 a: 3.5060716 b: -4.2904835 c: 6.253895 loss: 75.96647\n",
            "199 a: 2.7842405 b: -4.409607 c: 10.321211 loss: 31.87623\n",
            "299 a: 1.4331466 b: -2.6505966 c: 12.970359 loss: 15.565455\n",
            "399 a: 0.5751245 b: -1.48592 c: 14.53547 loss: 10.710278\n",
            "499 a: 0.1428189 b: -0.8992716 c: 15.324837 loss: 9.642103\n",
            "599 a: -0.042771507 b: -0.64749753 c: 15.663938 loss: 9.467392\n",
            "699 a: -0.110979445 b: -0.5549702 c: 15.788577 loss: 9.446089\n",
            "799 a: -0.13245867 b: -0.52583224 c: 15.827825 loss: 9.444157\n",
            "899 a: -0.13824211 b: -0.5179868 c: 15.838393 loss: 9.444027\n",
            "999 a: -0.13956697 b: -0.5161896 c: 15.840815 loss: 9.444019\n"
          ],
          "name": "stdout"
        },
        {
          "output_type": "display_data",
          "data": {
            "image/png": "[encoded data removed]",
            "text/plain": [
              "<Figure size 432x288 with 1 Axes>"
            ]
          },
          "metadata": {
            "tags": [],
            "needs_background": "light"
          }
        }
      ]
    },
    {
      "cell_type": "markdown",
      "metadata": {
        "id": "ypNbEy0pl-5z",
        "colab_type": "text"
      },
      "source": [
        "loss가 소량 감소함은 확인할 수 있음"
      ]
    },
    {
      "cell_type": "code",
      "metadata": {
        "id": "YdCws8rXkAOV",
        "colab_type": "code",
        "colab": {
          "base_uri": "https://localhost:8080/",
          "height": 631
        },
        "outputId": "97569946-2a43-4acc-d082-d23ed2adb859"
      },
      "source": [
        "import matplotlib.pyplot as plt\n",
        "import numpy as np\n",
        "import tensorflow as tf\n",
        "import random\n",
        "X = [0.3, -0.78, 1.26, 0.03, 1.11, 0.24, -0.24, -0.47, 0.77, -0.37, -0.85, -0.41, -0.27, 0.02, -0.76, 2.66]\n",
        "Y = [12.27,14.44,11.87,18.75,17.52,16.37,19.78,19.51,12.65,14.74,10.72,21.94,12.83,15.51,17.14,14.42]\n",
        "\n",
        "#a와 b, c를 랜덤한 값으로 초기화\n",
        "a = tf.Variable(random.random())\n",
        "b = tf.Variable(random.random())\n",
        "c = tf.Variable(random.random())\n",
        "d = tf.Variable(random.random())\n",
        "\n",
        "#잔차의 제곱의 평균을 반환하는 함수\n",
        "def compute_loss():\n",
        "  y_pred = a * X*X*X + b * X*X + c * X + d\n",
        "  loss = tf.reduce_mean((Y - y_pred) ** 2)\n",
        "  return loss\n",
        "\n",
        "optimizer = tf.optimizers.Adam(lr=0.07)\n",
        "for i in range(2000):\n",
        "  #잔차의 제곱의 평균을 최소화(minimize)\n",
        "  optimizer.minimize(compute_loss, var_list=[a,b,c,d])\n",
        "\n",
        "  if i % 100 == 99:\n",
        "    print(i, 'a:', a.numpy(), 'b:', b.numpy(), 'c:', c.numpy(), 'd:', d.numpy(), 'loss:', compute_loss().numpy())\n",
        "\n",
        "line_x = np.arange(min(X), max(X), 0.01)\n",
        "line_y = a * line_x*line_x*line_x + b * line_x*line_x + c *line_x + d\n",
        "\n",
        "#그래프를 드로우\n",
        "plt.plot(line_x, line_y, '-r')\n",
        "\n",
        "plt.plot(X, Y, 'bo')\n",
        "plt.xlabel('Population Growth Rate (%)')\n",
        "plt.ylabel('Elderly Population Rate (%)')\n",
        "plt.show()"
      ],
      "execution_count": null,
      "outputs": [
        {
          "output_type": "stream",
          "text": [
            "99 a: -1.3860343 b: 6.1778545 c: -3.1948216 d: 6.44847 loss: 63.555557\n",
            "199 a: -2.2838633 b: 7.4490194 c: -1.9612336 d: 10.101923 loss: 29.041328\n",
            "299 a: -1.8470303 b: 5.7816405 c: -1.4727286 d: 12.155386 loss: 19.482267\n",
            "399 a: -1.0475359 b: 3.4054458 c: -1.3153275 d: 13.535087 loss: 14.0975485\n",
            "499 a: -0.31874833 b: 1.2957029 c: -1.2324244 d: 14.591691 loss: 10.952322\n",
            "599 a: 0.24997368 b: -0.3446939 c: -1.1739975 d: 15.3942585 loss: 9.309121\n",
            "699 a: 0.6616192 b: -1.5313226 c: -1.1324037 d: 15.972409 loss: 8.541628\n",
            "799 a: 0.9416966 b: -2.3385487 c: -1.1042346 d: 16.365211 loss: 8.220404\n",
            "899 a: 1.1213049 b: -2.856175 c: -1.0861995 d: 16.61697 loss: 8.09987\n",
            "999 a: 1.2299356 b: -3.1692402 c: -1.0752977 d: 16.769217 loss: 8.059354\n",
            "1099 a: 1.2918957 b: -3.3478024 c: -1.069081 d: 16.856047 loss: 8.047175\n",
            "1199 a: 1.3251979 b: -3.4437766 c: -1.0657394 d: 16.902716 loss: 8.043909\n",
            "1299 a: 1.3420426 b: -3.4923196 c: -1.0640492 d: 16.926321 loss: 8.04313\n",
            "1399 a: 1.350044 b: -3.5153794 c: -1.0632466 d: 16.937534 loss: 8.042964\n",
            "1499 a: 1.3536084 b: -3.5256507 c: -1.0628891 d: 16.94253 loss: 8.042934\n",
            "1599 a: 1.3550916 b: -3.5299256 c: -1.0627402 d: 16.944609 loss: 8.04293\n",
            "1699 a: 1.3556663 b: -3.5315826 c: -1.0626824 d: 16.945417 loss: 8.04293\n",
            "1799 a: 1.35587 b: -3.5321681 c: -1.0626634 d: 16.945694 loss: 8.042929\n",
            "1899 a: 1.3559395 b: -3.532367 c: -1.0626574 d: 16.945784 loss: 8.042931\n",
            "1999 a: 1.3559506 b: -3.5323973 c: -1.0626571 d: 16.945797 loss: 8.04293\n"
          ],
          "name": "stdout"
        },
        {
          "output_type": "display_data",
          "data": {
            "image/png": "[encoded data removed]",
            "text/plain": [
              "<Figure size 432x288 with 1 Axes>"
            ]
          },
          "metadata": {
            "tags": [],
            "needs_background": "light"
          }
        }
      ]
    },
    {
      "cell_type": "markdown",
      "metadata": {
        "id": "Ve-Z7LnRnW97",
        "colab_type": "text"
      },
      "source": [
        "손실도가 2차 함수에 비해서 커졌다(?) 안커졌음     \n",
        "log나 분수, 지수 등을 활용해서 더 나은 비선형 회귀를 시도해 봐야함     \n",
        "     \n",
        "이런 시도를 하지 않고 새로운 방법이 바로 딥러닝 네트워크를 이용한 회귀"
      ]
    },
    {
      "cell_type": "markdown",
      "metadata": {
        "id": "lvNsmMXomd2W",
        "colab_type": "text"
      },
      "source": [
        "##딥러닝 네트워크를 이용한 회귀"
      ]
    },
    {
      "cell_type": "code",
      "metadata": {
        "id": "-znXuP92pBMX",
        "colab_type": "code",
        "colab": {
          "base_uri": "https://localhost:8080/",
          "height": 228
        },
        "outputId": "3319b215-fb4d-4638-cd0c-ee89b3a461cc"
      },
      "source": [
        "import tensorflow as tf\n",
        "import numpy as np\n",
        "\n",
        "X = [0.3, -0.78, 1.26, 0.03, 1.11, 0.24, -0.24, -0.47, 0.77, -0.37, -0.85, -0.41, -0.27, 0.02, -0.76, 2.66]\n",
        "Y = [12.27,14.44,11.87,18.75,17.52,16.37,19.78,19.51,12.65,14.74,10.72,21.94,12.83,15.51,17.14,14.42]\n",
        "\n",
        "model = tf.keras.Sequential([tf.keras.layers.Dense(units=6, activation='tanh', input_shape=(1,)),\n",
        "                             tf.keras.layers.Dense(units=1)])\n",
        "\n",
        "model.compile(optimizer=tf.keras.optimizers.SGD(lr=0.1), loss='mse')\n",
        "\n",
        "model.summary()"
      ],
      "execution_count": null,
      "outputs": [
        {
          "output_type": "stream",
          "text": [
            "Model: \"sequential_6\"\n",
            "_________________________________________________________________\n",
            "Layer (type)                 Output Shape              Param #   \n",
            "=================================================================\n",
            "dense_22 (Dense)             (None, 6)                 12        \n",
            "_________________________________________________________________\n",
            "dense_23 (Dense)             (None, 1)                 7         \n",
            "=================================================================\n",
            "Total params: 19\n",
            "Trainable params: 19\n",
            "Non-trainable params: 0\n",
            "_________________________________________________________________\n"
          ],
          "name": "stdout"
        }
      ]
    },
    {
      "cell_type": "markdown",
      "metadata": {
        "id": "X3iaoXCsyfVv",
        "colab_type": "text"
      },
      "source": [
        "###*Parameter 갯수 계산법\n",
        "\n"
      ]
    },
    {
      "cell_type": "markdown",
      "metadata": {
        "id": "DQSCBq6oyb8P",
        "colab_type": "text"
      },
      "source": [
        "`(입력측 뉴런의 수 + 1) * (출력측 뉴런의 수)`      \n",
        "여기서 입력측 뉴런의 수에 더해지는 1은 bias\n"
      ]
    },
    {
      "cell_type": "code",
      "metadata": {
        "id": "F82MWqCFppEB",
        "colab_type": "code",
        "colab": {
          "base_uri": "https://localhost:8080/",
          "height": 386
        },
        "outputId": "27f65f89-1985-4ee4-d238-aa20863dac74"
      },
      "source": [
        "model.fit(X, Y, epochs=10)"
      ],
      "execution_count": null,
      "outputs": [
        {
          "output_type": "stream",
          "text": [
            "Epoch 1/10\n",
            "1/1 [==============================] - 0s 2ms/step - loss: 255.1632\n",
            "Epoch 2/10\n",
            "1/1 [==============================] - 0s 1ms/step - loss: 113.9011\n",
            "Epoch 3/10\n",
            "1/1 [==============================] - 0s 1ms/step - loss: 11.1236\n",
            "Epoch 4/10\n",
            "1/1 [==============================] - 0s 2ms/step - loss: 10.2235\n",
            "Epoch 5/10\n",
            "1/1 [==============================] - 0s 1ms/step - loss: 10.0109\n",
            "Epoch 6/10\n",
            "1/1 [==============================] - 0s 1ms/step - loss: 9.8601\n",
            "Epoch 7/10\n",
            "1/1 [==============================] - 0s 1ms/step - loss: 9.7837\n",
            "Epoch 8/10\n",
            "1/1 [==============================] - 0s 1ms/step - loss: 9.7523\n",
            "Epoch 9/10\n",
            "1/1 [==============================] - 0s 1ms/step - loss: 9.7336\n",
            "Epoch 10/10\n",
            "1/1 [==============================] - 0s 1ms/step - loss: 9.7184\n"
          ],
          "name": "stdout"
        },
        {
          "output_type": "execute_result",
          "data": {
            "text/plain": [
              "<tensorflow.python.keras.callbacks.History at 0x7f2c61eab8d0>"
            ]
          },
          "metadata": {
            "tags": []
          },
          "execution_count": 37
        }
      ]
    },
    {
      "cell_type": "markdown",
      "metadata": {
        "id": "_jv3F15M4s_0",
        "colab_type": "text"
      },
      "source": [
        "위 학습 진행에서 epoch가 9회에서 10회로 넘어감에 따라 loss가 거의 바뀌지 않는 것을 알 수 있다.    \n",
        "epoch가 높아질 수록 경향성은 지나칠 정도로 잘 반영하지만 새로운 데이터에 대한 유연성이 떨어진다"
      ]
    },
    {
      "cell_type": "code",
      "metadata": {
        "id": "freVlm4y54iV",
        "colab_type": "code",
        "colab": {
          "base_uri": "https://localhost:8080/",
          "height": 298
        },
        "outputId": "07dbbd1a-8e74-46cf-aeb6-37ef6bf0c0d5"
      },
      "source": [
        "model.predict(X)"
      ],
      "execution_count": null,
      "outputs": [
        {
          "output_type": "execute_result",
          "data": {
            "text/plain": [
              "array([[15.878726 ],\n",
              "       [15.715998 ],\n",
              "       [15.59298  ],\n",
              "       [15.868536 ],\n",
              "       [15.683985 ],\n",
              "       [15.8788185],\n",
              "       [15.834892 ],\n",
              "       [15.791591 ],\n",
              "       [15.817761 ],\n",
              "       [15.8118925],\n",
              "       [15.696547 ],\n",
              "       [15.804031 ],\n",
              "       [15.829944 ],\n",
              "       [15.867672 ],\n",
              "       [15.721404 ],\n",
              "       [13.573581 ]], dtype=float32)"
            ]
          },
          "metadata": {
            "tags": []
          },
          "execution_count": 38
        }
      ]
    },
    {
      "cell_type": "code",
      "metadata": {
        "id": "3sNp1jfs6ZvX",
        "colab_type": "code",
        "colab": {
          "base_uri": "https://localhost:8080/",
          "height": 279
        },
        "outputId": "61b0eeab-744c-45c9-fde2-623b11092395"
      },
      "source": [
        "import matplotlib.pyplot as plt\n",
        "\n",
        "line_x = np.arange(min(X), max(X), 0.01)\n",
        "line_y = model.predict(line_x)\n",
        "\n",
        "plt.plot(line_x, line_y, 'r-')\n",
        "plt.plot(X,Y,'bo')\n",
        "plt.xlabel('Population Growth Rate (%)')\n",
        "plt.ylabel('Elderly Population Rate (%)')\n",
        "plt.show()"
      ],
      "execution_count": null,
      "outputs": [
        {
          "output_type": "display_data",
          "data": {
            "image/png": "[encoded data removed]",
            "text/plain": [
              "<Figure size 432x288 with 1 Axes>"
            ]
          },
          "metadata": {
            "tags": [],
            "needs_background": "light"
          }
        }
      ]
    },
    {
      "cell_type": "markdown",
      "metadata": {
        "id": "udcjIOT78mDu",
        "colab_type": "text"
      },
      "source": [
        "##보스턴 주택 가격 데이터세트"
      ]
    },
    {
      "cell_type": "code",
      "metadata": {
        "id": "SM_cMMPc7uSt",
        "colab_type": "code",
        "colab": {
          "base_uri": "https://localhost:8080/",
          "height": 87
        },
        "outputId": "79037f9b-f5cc-41d2-bdcd-6cc6960c3026"
      },
      "source": [
        "from tensorflow.keras.datasets import boston_housing\n",
        "(train_X, train_Y), (test_X, test_Y) = boston_housing.load_data()\n",
        "print(len(train_X), len(test_X))\n",
        "print(train_X[0])\n",
        "print(train_Y[0])"
      ],
      "execution_count": null,
      "outputs": [
        {
          "output_type": "stream",
          "text": [
            "404 102\n",
            "[  1.23247   0.        8.14      0.        0.538     6.142    91.7\n",
            "   3.9769    4.      307.       21.      396.9      18.72   ]\n",
            "15.2\n"
          ],
          "name": "stdout"
        }
      ]
    },
    {
      "cell_type": "markdown",
      "metadata": {
        "id": "mOEElnWf9P-D",
        "colab_type": "text"
      },
      "source": [
        "훈련데이터와 테스트 데이터의 비율은 보통 80 : 20으로 한다.    \n",
        "이때 훈련데이터의 일부를 검증 데이터로 사용하는데    \n",
        "결과적으로 `훈련데이터 : 검증데이터 : 테스트데이터 = 60 : 20 : 20`"
      ]
    },
    {
      "cell_type": "markdown",
      "metadata": {
        "id": "lUVeRjHg-AWU",
        "colab_type": "text"
      },
      "source": [
        "데이터의 단위를 보면 항목마다 다양하다.    \n",
        "이는 학습시에 일정하게 가중치에 영향을 미치는데 방해가 되는 요소이다.    \n",
        "때문에 이러한 데이터들의 **정규화**를 통해 전처리를 한 후에 학습을 해야 효율이 좋다."
      ]
    },
    {
      "cell_type": "markdown",
      "metadata": {
        "id": "2KdOUulX_yOz",
        "colab_type": "text"
      },
      "source": [
        "`데이터 정규화 : (데이터 - 데이터 평균값) / 데이터 표준편차`    \n",
        "이때 정규화는 훈련 데이터를 기준으로 함    \n",
        "이유 : 테스트 데이터는 어떤 평균과 표준편차를 띌지 모르기 때문에 테스트 데이터가 없다고 생각하고 진행"
      ]
    },
    {
      "cell_type": "code",
      "metadata": {
        "id": "nRafWyRl-K8W",
        "colab_type": "code",
        "colab": {
          "base_uri": "https://localhost:8080/",
          "height": 87
        },
        "outputId": "528c2a80-495f-4c89-ae2f-8502d8ca3077"
      },
      "source": [
        "x_mean = train_X.mean(axis=0)\n",
        "x_std =train_X.std(axis=0)\n",
        "train_X -= x_mean\n",
        "train_X /= x_std\n",
        "test_X -= x_mean\n",
        "test_X /= x_std\n",
        "\n",
        "y_mean = train_Y.mean(axis=0)\n",
        "y_std = train_Y.std(axis=0)\n",
        "train_Y -= y_mean\n",
        "train_Y /= y_std\n",
        "test_Y -= y_mean\n",
        "test_Y /= y_std\n",
        "\n",
        "print(train_X[0])\n",
        "print(train_Y[0])"
      ],
      "execution_count": null,
      "outputs": [
        {
          "output_type": "stream",
          "text": [
            "[-0.27224633 -0.48361547 -0.43576161 -0.25683275 -0.1652266  -0.1764426\n",
            "  0.81306188  0.1166983  -0.62624905 -0.59517003  1.14850044  0.44807713\n",
            "  0.8252202 ]\n",
            "-0.7821526033779157\n"
          ],
          "name": "stdout"
        }
      ]
    },
    {
      "cell_type": "code",
      "metadata": {
        "id": "LXuYSjnv_hWz",
        "colab_type": "code",
        "colab": {
          "base_uri": "https://localhost:8080/",
          "height": 298
        },
        "outputId": "d15209f9-95d3-4d7e-ea61-e7dc007f07a1"
      },
      "source": [
        "model = tf.keras.Sequential([\n",
        "      tf.keras.layers.Dense(units=52, activation='relu', input_shape=(13,)),\n",
        "      tf.keras.layers.Dense(units=52, activation='relu'),\n",
        "      tf.keras.layers.Dense(units=52, activation='relu'),\n",
        "      tf.keras.layers.Dense(units=1)\n",
        "])\n",
        "model.compile(optimizer=tf.keras.optimizers.Adam(lr=0.07), loss='mse')\n",
        "\n",
        "model.summary()"
      ],
      "execution_count": null,
      "outputs": [
        {
          "output_type": "stream",
          "text": [
            "Model: \"sequential_7\"\n",
            "_________________________________________________________________\n",
            "Layer (type)                 Output Shape              Param #   \n",
            "=================================================================\n",
            "dense_24 (Dense)             (None, 52)                728       \n",
            "_________________________________________________________________\n",
            "dense_25 (Dense)             (None, 52)                2756      \n",
            "_________________________________________________________________\n",
            "dense_26 (Dense)             (None, 52)                2756      \n",
            "_________________________________________________________________\n",
            "dense_27 (Dense)             (None, 1)                 53        \n",
            "=================================================================\n",
            "Total params: 6,293\n",
            "Trainable params: 6,293\n",
            "Non-trainable params: 0\n",
            "_________________________________________________________________\n"
          ],
          "name": "stdout"
        }
      ]
    },
    {
      "cell_type": "code",
      "metadata": {
        "id": "Jfmj-SMRA9dL",
        "colab_type": "code",
        "colab": {
          "base_uri": "https://localhost:8080/",
          "height": 897
        },
        "outputId": "d7dfa0c2-e4af-40b4-b158-5b9446f758c1"
      },
      "source": [
        "history = model.fit(train_X, train_Y, epochs=25, batch_size=32, validation_split=0.25)"
      ],
      "execution_count": null,
      "outputs": [
        {
          "output_type": "stream",
          "text": [
            "Epoch 1/25\n",
            "10/10 [==============================] - 0s 12ms/step - loss: 8.2607 - val_loss: 1.1303\n",
            "Epoch 2/25\n",
            "10/10 [==============================] - 0s 6ms/step - loss: 0.6986 - val_loss: 0.9921\n",
            "Epoch 3/25\n",
            "10/10 [==============================] - 0s 5ms/step - loss: 0.5263 - val_loss: 0.7516\n",
            "Epoch 4/25\n",
            "10/10 [==============================] - 0s 5ms/step - loss: 0.4388 - val_loss: 0.6462\n",
            "Epoch 5/25\n",
            "10/10 [==============================] - 0s 6ms/step - loss: 0.3081 - val_loss: 0.4267\n",
            "Epoch 6/25\n",
            "10/10 [==============================] - 0s 5ms/step - loss: 0.2851 - val_loss: 0.4945\n",
            "Epoch 7/25\n",
            "10/10 [==============================] - 0s 5ms/step - loss: 0.2546 - val_loss: 0.4489\n",
            "Epoch 8/25\n",
            "10/10 [==============================] - 0s 5ms/step - loss: 0.2420 - val_loss: 0.3962\n",
            "Epoch 9/25\n",
            "10/10 [==============================] - 0s 5ms/step - loss: 0.2361 - val_loss: 0.4156\n",
            "Epoch 10/25\n",
            "10/10 [==============================] - 0s 6ms/step - loss: 0.2085 - val_loss: 0.2897\n",
            "Epoch 11/25\n",
            "10/10 [==============================] - 0s 5ms/step - loss: 0.1533 - val_loss: 0.2585\n",
            "Epoch 12/25\n",
            "10/10 [==============================] - 0s 5ms/step - loss: 0.1678 - val_loss: 0.4068\n",
            "Epoch 13/25\n",
            "10/10 [==============================] - 0s 5ms/step - loss: 0.2005 - val_loss: 0.3057\n",
            "Epoch 14/25\n",
            "10/10 [==============================] - 0s 5ms/step - loss: 0.1440 - val_loss: 0.3016\n",
            "Epoch 15/25\n",
            "10/10 [==============================] - 0s 5ms/step - loss: 0.1359 - val_loss: 0.2899\n",
            "Epoch 16/25\n",
            "10/10 [==============================] - 0s 5ms/step - loss: 0.1199 - val_loss: 0.2629\n",
            "Epoch 17/25\n",
            "10/10 [==============================] - 0s 5ms/step - loss: 0.1101 - val_loss: 0.1848\n",
            "Epoch 18/25\n",
            "10/10 [==============================] - 0s 5ms/step - loss: 0.1121 - val_loss: 0.1809\n",
            "Epoch 19/25\n",
            "10/10 [==============================] - 0s 6ms/step - loss: 0.1033 - val_loss: 0.2227\n",
            "Epoch 20/25\n",
            "10/10 [==============================] - 0s 5ms/step - loss: 0.1227 - val_loss: 0.1987\n",
            "Epoch 21/25\n",
            "10/10 [==============================] - 0s 6ms/step - loss: 0.1102 - val_loss: 0.1678\n",
            "Epoch 22/25\n",
            "10/10 [==============================] - 0s 5ms/step - loss: 0.1098 - val_loss: 0.1790\n",
            "Epoch 23/25\n",
            "10/10 [==============================] - 0s 5ms/step - loss: 0.1086 - val_loss: 0.1798\n",
            "Epoch 24/25\n",
            "10/10 [==============================] - 0s 5ms/step - loss: 0.1140 - val_loss: 0.1487\n",
            "Epoch 25/25\n",
            "10/10 [==============================] - 0s 6ms/step - loss: 0.1189 - val_loss: 0.1648\n"
          ],
          "name": "stdout"
        }
      ]
    },
    {
      "cell_type": "markdown",
      "metadata": {
        "id": "3zBAv5kREFDD",
        "colab_type": "text"
      },
      "source": [
        "validation_split : 훈련 데이터의 일부를 검증 데이터로 사용하여 학습결과 검증    \n",
        "         사용 시 검증 데이터의 로스(val_loss)도 같이 출력됨"
      ]
    },
    {
      "cell_type": "code",
      "metadata": {
        "id": "6gSYnKHxEYdN",
        "colab_type": "code",
        "colab": {
          "base_uri": "https://localhost:8080/",
          "height": 279
        },
        "outputId": "7fb84c81-2d56-4af9-92cd-20b8d756b705"
      },
      "source": [
        "import matplotlib.pyplot as plt\n",
        "plt.plot(history.history['loss'], 'b-', label='loss')\n",
        "plt.plot(history.history['val_loss'], 'r--', label='val_loss')\n",
        "plt.xlabel('Epoch')\n",
        "plt.legend()\n",
        "plt.show()"
      ],
      "execution_count": null,
      "outputs": [
        {
          "output_type": "display_data",
          "data": {
            "image/png": "[encoded data removed]",
            "text/plain": [
              "<Figure size 432x288 with 1 Axes>"
            ]
          },
          "metadata": {
            "tags": [],
            "needs_background": "light"
          }
        }
      ]
    },
    {
      "cell_type": "code",
      "metadata": {
        "id": "YRYdtYbaCJMF",
        "colab_type": "code",
        "colab": {
          "base_uri": "https://localhost:8080/",
          "height": 52
        },
        "outputId": "e810b1a5-3a3b-4048-8c7b-7e916972d0a6"
      },
      "source": [
        "model.evaluate(test_X, test_Y)"
      ],
      "execution_count": null,
      "outputs": [
        {
          "output_type": "stream",
          "text": [
            "4/4 [==============================] - 0s 2ms/step - loss: 0.2602\n"
          ],
          "name": "stdout"
        },
        {
          "output_type": "execute_result",
          "data": {
            "text/plain": [
              "0.26018157601356506"
            ]
          },
          "metadata": {
            "tags": []
          },
          "execution_count": 45
        }
      ]
    },
    {
      "cell_type": "code",
      "metadata": {
        "id": "IQoUJiYZE-2A",
        "colab_type": "code",
        "colab": {
          "base_uri": "https://localhost:8080/",
          "height": 339
        },
        "outputId": "94cddaa4-0f2e-4ab0-abbc-f4bef286b50a"
      },
      "source": [
        "import matplotlib.pyplot as plt\n",
        "\n",
        "pred_Y = model.predict(test_X)\n",
        "\n",
        "plt.figure(figsize=(5,5))\n",
        "plt.plot(test_Y, pred_Y, 'b.')\n",
        "plt.axis([min(test_Y), max(test_Y), min(test_Y), max(test_Y)])\n",
        "\n",
        "plt.plot([min(test_Y), max(test_Y)], [min(test_Y), max(test_Y)], ls=\"--\", c=\".3\")\n",
        "plt.xlabel('test_Y')\n",
        "plt.ylabel('pred_Y')\n",
        "\n",
        "plt.show()"
      ],
      "execution_count": null,
      "outputs": [
        {
          "output_type": "display_data",
          "data": {
            "image/png": "[encoded data removed]",
            "text/plain": [
              "<Figure size 360x360 with 1 Axes>"
            ]
          },
          "metadata": {
            "tags": [],
            "needs_background": "light"
          }
        }
      ]
    },
    {
      "cell_type": "markdown",
      "metadata": {
        "id": "Ysomdew3FfXG",
        "colab_type": "text"
      },
      "source": [
        "callback : 학습의 중간에 끼어들기 위한 함수, epoch 끝마다 호출됨"
      ]
    },
    {
      "cell_type": "code",
      "metadata": {
        "id": "xN0qs84rglcu",
        "colab_type": "code",
        "colab": {
          "base_uri": "https://localhost:8080/",
          "height": 650
        },
        "outputId": "54dff3e4-3f05-4618-d799-994954fd549e"
      },
      "source": [
        "import tensorflow as tf\n",
        "\n",
        "model = tf.keras.Sequential([\n",
        "                             tf.keras.layers.Dense(units=52, activation='relu', input_shape=(13,)),\n",
        "                             tf.keras.layers.Dense(units=39, activation='relu'),\n",
        "                             tf.keras.layers.Dense(units=26, activation='relu'),\n",
        "                             tf.keras.layers.Dense(units=1)\n",
        "])\n",
        "\n",
        "model.compile(optimizer=tf.keras.optimizers.Adam(lr=0.07), loss='mse')\n",
        "history = model.fit(train_X, train_Y, epochs=25, batch_size=32, validation_split=0.25,\n",
        "                    callbacks=[tf.keras.callbacks.EarlyStopping(patience=3, monitor='val_loss')])"
      ],
      "execution_count": null,
      "outputs": [
        {
          "output_type": "stream",
          "text": [
            "Epoch 1/25\n",
            "10/10 [==============================] - 0s 11ms/step - loss: 6.0391 - val_loss: 1.2096\n",
            "Epoch 2/25\n",
            "10/10 [==============================] - 0s 5ms/step - loss: 0.5940 - val_loss: 0.7924\n",
            "Epoch 3/25\n",
            "10/10 [==============================] - 0s 5ms/step - loss: 0.5059 - val_loss: 0.4719\n",
            "Epoch 4/25\n",
            "10/10 [==============================] - 0s 5ms/step - loss: 0.2775 - val_loss: 0.2872\n",
            "Epoch 5/25\n",
            "10/10 [==============================] - 0s 5ms/step - loss: 0.2498 - val_loss: 0.3966\n",
            "Epoch 6/25\n",
            "10/10 [==============================] - 0s 5ms/step - loss: 0.2392 - val_loss: 0.2507\n",
            "Epoch 7/25\n",
            "10/10 [==============================] - 0s 6ms/step - loss: 0.2464 - val_loss: 0.2037\n",
            "Epoch 8/25\n",
            "10/10 [==============================] - 0s 5ms/step - loss: 0.1837 - val_loss: 0.2462\n",
            "Epoch 9/25\n",
            "10/10 [==============================] - 0s 7ms/step - loss: 0.1441 - val_loss: 0.2035\n",
            "Epoch 10/25\n",
            "10/10 [==============================] - 0s 6ms/step - loss: 0.1500 - val_loss: 0.1794\n",
            "Epoch 11/25\n",
            "10/10 [==============================] - 0s 5ms/step - loss: 0.1261 - val_loss: 0.1631\n",
            "Epoch 12/25\n",
            "10/10 [==============================] - 0s 5ms/step - loss: 0.1003 - val_loss: 0.1561\n",
            "Epoch 13/25\n",
            "10/10 [==============================] - 0s 5ms/step - loss: 0.1031 - val_loss: 0.1429\n",
            "Epoch 14/25\n",
            "10/10 [==============================] - 0s 5ms/step - loss: 0.0935 - val_loss: 0.2228\n",
            "Epoch 15/25\n",
            "10/10 [==============================] - 0s 5ms/step - loss: 0.1103 - val_loss: 0.1252\n",
            "Epoch 16/25\n",
            "10/10 [==============================] - 0s 7ms/step - loss: 0.0863 - val_loss: 0.1577\n",
            "Epoch 17/25\n",
            "10/10 [==============================] - 0s 5ms/step - loss: 0.0928 - val_loss: 0.1407\n",
            "Epoch 18/25\n",
            "10/10 [==============================] - 0s 5ms/step - loss: 0.0799 - val_loss: 0.1713\n"
          ],
          "name": "stdout"
        }
      ]
    },
    {
      "cell_type": "markdown",
      "metadata": {
        "id": "qr6-5cDpjWuS",
        "colab_type": "text"
      },
      "source": [
        "* 위 실행결과에서 15 Epoch에서 부터 더이상 loss가 감소하지 않아 중지된걸 확인할 수 있음."
      ]
    },
    {
      "cell_type": "code",
      "metadata": {
        "id": "gtvpIHIvh66U",
        "colab_type": "code",
        "colab": {
          "base_uri": "https://localhost:8080/",
          "height": 279
        },
        "outputId": "d20d8a71-3935-41d6-84b9-8763496ca988"
      },
      "source": [
        "import matplotlib.pyplot as plt\n",
        "plt.plot(history.history['loss'], 'b-', label='loss')\n",
        "plt.plot(history.history['val_loss'], 'r--', label='val_loss')\n",
        "plt.xlabel('Epoch')\n",
        "plt.legend()\n",
        "plt.show()"
      ],
      "execution_count": null,
      "outputs": [
        {
          "output_type": "display_data",
          "data": {
            "image/png": "[encoded data removed]",
            "text/plain": [
              "<Figure size 432x288 with 1 Axes>"
            ]
          },
          "metadata": {
            "tags": [],
            "needs_background": "light"
          }
        }
      ]
    },
    {
      "cell_type": "code",
      "metadata": {
        "id": "cy5sUtbfkJYz",
        "colab_type": "code",
        "colab": {
          "base_uri": "https://localhost:8080/",
          "height": 52
        },
        "outputId": "680037e4-35b8-496d-a916-19df0abcab5a"
      },
      "source": [
        "model.evaluate(test_X, test_Y)"
      ],
      "execution_count": null,
      "outputs": [
        {
          "output_type": "stream",
          "text": [
            "4/4 [==============================] - 0s 2ms/step - loss: 0.3033\n"
          ],
          "name": "stdout"
        },
        {
          "output_type": "execute_result",
          "data": {
            "text/plain": [
              "0.30330485105514526"
            ]
          },
          "metadata": {
            "tags": []
          },
          "execution_count": 62
        }
      ]
    },
    {
      "cell_type": "markdown",
      "metadata": {
        "id": "2K9nfQp-k6VB",
        "colab_type": "text"
      },
      "source": [
        "그래프로는 Loss의 뚜렷한 효과가 보이지 않지만 평가 결과는 더 낮은 Loss를 보이기 때문에 네트워크의 주목적인 손실의 감소를 더 잘 보여주는 잘 학습된 모델이라고 할 수 있다."
      ]
    },
    {
      "cell_type": "code",
      "metadata": {
        "id": "E5iEtgdukpX2",
        "colab_type": "code",
        "colab": {
          "base_uri": "https://localhost:8080/",
          "height": 339
        },
        "outputId": "ebe8eb0d-5271-42e1-9e47-c3447fd29e5d"
      },
      "source": [
        "import matplotlib.pyplot as plt\n",
        "\n",
        "pred_Y = model.predict(test_X)\n",
        "\n",
        "plt.figure(figsize=(5,5))\n",
        "plt.plot(test_Y, pred_Y, 'b.')\n",
        "plt.axis([min(test_Y), max(test_Y), min(test_Y), max(test_Y)])\n",
        "\n",
        "plt.plot([min(test_Y), max(test_Y)], [min(test_Y), max(test_Y)], ls=\"--\", c=\".3\")\n",
        "plt.xlabel('test_Y')\n",
        "plt.ylabel('pred_Y')\n",
        "\n",
        "plt.show()"
      ],
      "execution_count": null,
      "outputs": [
        {
          "output_type": "display_data",
          "data": {
            "image/png": "[encoded data removed]",
            "text/plain": [
              "<Figure size 360x360 with 1 Axes>"
            ]
          },
          "metadata": {
            "tags": [],
            "needs_background": "light"
          }
        }
      ]
    },
    {
      "cell_type": "code",
      "metadata": {
        "id": "IqjTNb2amkR0",
        "colab_type": "code",
        "colab": {}
      },
      "source": [
        ""
      ],
      "execution_count": null,
      "outputs": []
    }
  ]
}